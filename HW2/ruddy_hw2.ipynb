{
 "cells": [
  {
   "cell_type": "markdown",
   "metadata": {},
   "source": [
    "### Homework 2\n",
    "Cameron Ruddy - cruddy@research.stevens.edu"
   ]
  },
  {
   "cell_type": "code",
   "execution_count": 2,
   "metadata": {},
   "outputs": [
    {
     "data": {
      "image/png": "[encoded data removed]",
      "text/plain": [
       "<Figure size 432x288 with 1 Axes>"
      ]
     },
     "metadata": {
      "needs_background": "light"
     },
     "output_type": "display_data"
    }
   ],
   "source": [
    "import os,sys\n",
    "import numpy as np\n",
    "import matplotlib.pyplot as plt\n",
    "\n",
    "FILENAME = \"./data2.txt\"\n",
    "\n",
    "### Import data from txt file ###\n",
    "try:\n",
    "    with open(FILENAME) as f:\n",
    "        raw_data = [line.rstrip().split(\",\") for line in f]\n",
    "except FileNotFoundError:\n",
    "    print(\"No file named {}\".format(FILENAME))\n",
    "    sys.exit(0)\n",
    "\n",
    "# Enter into x and y arrays, convert from str to float #\n",
    "x_data = np.array([float(data_pair[0]) for data_pair in raw_data])\n",
    "y_data = np.array([float(data_pair[1]) for data_pair in raw_data])\n",
    "\n",
    "plt.figure(0)\n",
    "plt.scatter(x_data[:], y_data[:], color=\"red\")\n",
    "plt.title(\"Raw Data from {}\".format(FILENAME))\n",
    "plt.show()"
   ]
  },
  {
   "cell_type": "markdown",
   "metadata": {},
   "source": [
    "First, the file contatining initial sample data is opened and read in line-by-line using the [`rstrip()`](https://www.w3schools.com/python/ref_string_rstrip.asp) method. Each line is further split into seperate values using the [`split()`](https://www.w3schools.com/python/ref_string_split.asp) method. This effectively makes a list of 2-entry lists. \n",
    "\n",
    "Next, data must be seperated into X and Y data. This is done by iterating over the lists in `raw_data` and copying the first value of each list into the `x_data` array and the second value into the `y_data` array. Each entry must also be cast to float, as each entry is initially considered a string when read in from the file."
   ]
  },
  {
   "cell_type": "code",
   "execution_count": 3,
   "metadata": {},
   "outputs": [
    {
     "name": "stdout",
     "output_type": "stream",
     "text": [
      "[-3.89578088  1.19303364]\n"
     ]
    },
    {
     "data": {
      "image/png": "[encoded data removed]",
      "text/plain": [
       "<Figure size 432x288 with 1 Axes>"
      ]
     },
     "metadata": {
      "needs_background": "light"
     },
     "output_type": "display_data"
    }
   ],
   "source": [
    "### Implement Normal Equation ###\n",
    "# This is taken from the book\n",
    "\n",
    "X_b = np.c_[np.ones((len(x_data),1)), x_data]\n",
    "theta_best = np.linalg.inv(X_b.T.dot(X_b)).dot(X_b.T).dot(y_data)\n",
    "print(theta_best)\n",
    "\n",
    "# Add to plot\n",
    "x_vec = np.linspace(min(x_data), max(x_data))\n",
    "\n",
    "# theta_best has to be reversed, since poly1d needs\n",
    "# the coefficients in reverse order for some reason\n",
    "trend = np.poly1d(theta_best[::-1])\n",
    "\n",
    "plt.scatter(x_data[:], y_data[:], color=\"red\")\n",
    "plt.plot(x_vec, \n",
    "        trend(x_vec),\n",
    "        label=\"Linear Normal Equation Fit\")\n",
    "plt.legend()\n",
    "plt.title(\"Raw data with Linear Normal Equation\")\n",
    "plt.show()\n"
   ]
  },
  {
   "cell_type": "code",
   "execution_count": 9,
   "metadata": {},
   "outputs": [
    {
     "name": "stdout",
     "output_type": "stream",
     "text": [
      "[[-4.18244125e+11 -1.97576051e+11 -3.15757003e+11 -2.68607711e+11\n",
      "  -1.37416371e+11 -2.69442212e+11 -7.28729538e+10 -2.72415121e+11\n",
      "  -1.31559219e+11 -5.90072024e+10 -4.42886955e+10 -3.63819030e+11\n",
      "  -4.17565073e+10 -1.47912825e+11  2.18460099e+10 -5.10872688e+10\n",
      "  -9.78167026e+10  2.58988149e+10 -5.47095236e+10 -1.00020306e+11\n",
      "  -4.13262179e+10 -5.27120394e+11 -7.06484877e+10 -9.47577358e+10\n",
      "  -3.98632338e+10 -5.49834461e+11 -3.11558421e+11 -1.43242229e+11\n",
      "  -3.42617496e+11 -5.89186387e+11  7.23379989e+10 -1.15857565e+11\n",
      "  -2.75909592e+11 -7.70887702e+09 -1.30096234e+11 -7.84536775e+10\n",
      "  -6.68254312e+10 -4.79552832e+10 -2.23309967e+11 -1.02839354e+11\n",
      "   2.60083432e+10 -6.14820186e+10 -9.99186013e+10 -2.31236704e+10\n",
      "  -1.35030220e+11  1.32370916e+10 -9.33547314e+10 -7.56544720e+09\n",
      "  -1.68214664e+11  1.39777110e+10 -1.35515274e+11 -7.45070335e+09\n",
      "  -7.13134805e+10 -8.98185345e+10  3.40562976e+09  7.75823146e+10\n",
      "  -2.40364056e+10 -7.95463519e+10 -6.28093964e+10 -1.00667044e+11\n",
      "  -9.42857213e+10  5.98932458e+10 -4.27032461e+11 -2.73823341e+11\n",
      "  -4.04214082e+11 -8.68743116e+10 -1.09275441e+11 -1.62245376e+11\n",
      "   1.39933579e+10 -5.06909829e+11 -1.33676764e+11 -6.44653588e+10\n",
      "   7.18435343e+09 -4.66070429e+10  1.10430350e+11  3.27831853e+10\n",
      "  -6.07779086e+10 -1.08159296e+11 -1.35572646e+11 -1.31357397e+10\n",
      "   2.80174037e+10  3.51972395e+10  2.28257660e+10 -1.56197853e+11\n",
      "  -9.88285347e+10 -7.00878076e+10 -1.36759201e+11  1.63495186e+10\n",
      "   3.65587796e+10 -3.30542293e+10 -7.59413316e+09 -7.15064588e+10\n",
      "  -1.47315636e+11 -1.12920146e+10  3.67533226e+10 -1.95617582e+11\n",
      "   2.44311368e+10]\n",
      " [-4.16325503e+12 -1.96669705e+12 -3.14308522e+12 -2.67375519e+12\n",
      "  -1.36785997e+12 -2.68206192e+12 -7.25386617e+11 -2.71165463e+12\n",
      "  -1.30955713e+12 -5.87365170e+11 -4.40855288e+11 -3.62150073e+12\n",
      "  -4.15649565e+11 -1.47234301e+12  2.17457951e+11 -5.08529147e+11\n",
      "  -9.73679853e+11  2.57800086e+11 -5.44585530e+11 -9.95614802e+11\n",
      "  -4.11366410e+11 -5.24702320e+12 -7.03244000e+11 -9.43230510e+11\n",
      "  -3.96803681e+11 -5.47312190e+12 -3.10129200e+12 -1.42585130e+12\n",
      "  -3.41045797e+12 -5.86483596e+12  7.20061608e+11 -1.15326089e+12\n",
      "  -2.74643905e+12 -7.67351387e+10 -1.29499440e+12 -7.80937848e+11\n",
      "  -6.65188811e+11 -4.77352966e+11 -2.22285571e+12 -1.02367596e+12\n",
      "   2.58890344e+11 -6.11999805e+11 -9.94602419e+11 -2.30175946e+11\n",
      "  -1.34410792e+12  1.31763688e+11 -9.29264827e+11 -7.53074201e+10\n",
      "  -1.67443008e+12  1.39135907e+11 -1.34893621e+12 -7.41652453e+10\n",
      "  -7.09863422e+11 -8.94065075e+11  3.39000702e+10  7.72264191e+11\n",
      "  -2.39261427e+11 -7.91814467e+11 -6.25212691e+11 -1.00205251e+12\n",
      "  -9.38532018e+11  5.96184959e+11 -4.25073523e+12 -2.72567223e+12\n",
      "  -4.02359819e+12 -8.64757906e+11 -1.08774159e+12 -1.61501103e+12\n",
      "   1.39291658e+11 -5.04584468e+12 -1.33063545e+12 -6.41696351e+11\n",
      "   7.15139645e+10 -4.63932411e+11  1.09923770e+12  3.26327981e+11\n",
      "  -6.04991005e+11 -1.07663134e+12 -1.34950729e+12 -1.30754817e+11\n",
      "   2.78888787e+11  3.50357782e+11  2.27210567e+11 -1.55481322e+12\n",
      "  -9.83751758e+11 -6.97662918e+11 -1.36131842e+12  1.62745180e+11\n",
      "   3.63910725e+11 -3.29025987e+11 -7.55929639e+10 -7.11784353e+11\n",
      "  -1.46639851e+12 -1.12402144e+11  3.65847230e+11 -1.94720220e+12\n",
      "   2.43190631e+11]]\n"
     ]
    }
   ],
   "source": [
    "### Batch Gradient Descent ###\n",
    "# This is also taken from the book\n",
    "eta = 0.1           # Learning rate\n",
    "n_iterations = 10\n",
    "m = len(y_data)\n",
    "\n",
    "theta = np.random.randn(2,1)    # Random initializaiton\n",
    "\n",
    "for iteration in range(n_iterations):\n",
    "    #gradients = 2/m * np.dot(X_b.T, (y_data - np.dot(X_b, theta)))\n",
    "    #theta = theta - eta * gradients\n",
    "    gradients = 2/m * X_b.T.dot(X_b.dot(theta) - y_data)\n",
    "    theta = theta - (eta * gradients)\n",
    "\n",
    "print(theta)"
   ]
  },
  {
   "cell_type": "code",
   "execution_count": 5,
   "metadata": {},
   "outputs": [
    {
     "name": "stdout",
     "output_type": "stream",
     "text": [
      "[[5.76299083e+65]\n",
      " [1.00359959e+67]]\n"
     ]
    }
   ],
   "source": [
    "### Stochastic Gradient Descent ###\n",
    "n_epochs = 1\n",
    "t0, t1 = 5, 50\n",
    "\n",
    "def learning_schedule(t):\n",
    "    return t0 / (t + t1)\n",
    "\n",
    "theta = np.random.randn(2,1)\n",
    "\n",
    "for epoch in range(n_epochs):\n",
    "    for i in range(m):\n",
    "        random_index = np.random.randint(m)\n",
    "        xi = X_b[random_index:random_index+1]\n",
    "        yi = y_data[random_index:random_index+1]\n",
    "        gradients = 2 * xi.T.dot(xi.dot(theta) - yi)\n",
    "        eta = learning_schedule(epoch * m + i)\n",
    "        theta = theta - eta * gradients\n",
    "print(theta)"
   ]
  }
 ],
 "metadata": {
  "kernelspec": {
   "display_name": "Python 3",
   "language": "python",
   "name": "python3"
  },
  "language_info": {
   "codemirror_mode": {
    "name": "ipython",
    "version": 3
   },
   "file_extension": ".py",
   "mimetype": "text/x-python",
   "name": "python",
   "nbconvert_exporter": "python",
   "pygments_lexer": "ipython3",
   "version": "3.9.5"
  }
 },
 "nbformat": 4,
 "nbformat_minor": 2
}

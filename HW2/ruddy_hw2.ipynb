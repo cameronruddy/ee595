{
 "cells": [
  {
   "cell_type": "markdown",
   "metadata": {},
   "source": [
    "### Homework 2\n",
    "Cameron Ruddy - cruddy@research.stevens.edu"
   ]
  },
  {
   "cell_type": "code",
   "execution_count": null,
   "metadata": {},
   "outputs": [],
   "source": [
    "import os,sys\n",
    "import numpy as np\n",
    "import matplotlib.pyplot as plt\n",
    "\n",
    "FILENAME = \"./data2.txt\"\n",
    "\n",
    "### Import data from txt file ###\n",
    "try:\n",
    "    with open(FILENAME) as f:\n",
    "        raw_data = [line.rstrip().split(\",\") for line in f]\n",
    "except FileNotFoundError:\n",
    "    printf(\"No file named {}\".format(FILENAME))\n",
    "    sys.exit(0)\n",
    "\n",
    "# Enter into x and y arrays, convert from str to float #\n",
    "x_data = np.array([float(data_pair[0]) for data_pair in raw_data])\n",
    "y_data = np.array([float(data_pair[1]) for data_pair in raw_data])\n",
    "\n",
    "plt.figure(0)\n",
    "plt.scatter(x_data[:], y_data[:], color=\"red\")\n",
    "plt.title(\"Raw Data from {}\".format(FILENAME))\n",
    "plt.show()"
   ]
  },
  {
   "cell_type": "markdown",
   "metadata": {},
   "source": [
    "First, the file contatining initial sample data is opened and read in line-by-line using the [`rstrip()`](https://www.w3schools.com/python/ref_string_rstrip.asp) method. Each line is further split into seperate values using the [`split()`](https://www.w3schools.com/python/ref_string_split.asp) method. This effectively makes a list of 2-entry lists. \n",
    "\n",
    "Next, data must be seperated into X and Y data. This is done by iterating over the lists in `raw_data` and copying the first value of each list into the `x_data` array and the second value into the `y_data` array. Each entry must also be cast to float, as each entry is initially considered a string when read in from the file."
   ]
  }
 ],
 "metadata": {
  "language_info": {
   "name": "python"
  }
 },
 "nbformat": 4,
 "nbformat_minor": 2
}

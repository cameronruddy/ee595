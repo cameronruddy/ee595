{
 "cells": [
  {
   "cell_type": "code",
   "execution_count": 2,
   "metadata": {
    "pycharm": {
     "name": "#%%\n"
    }
   },
   "outputs": [
    {
     "data": {
      "text/html": [
       "<div>\n",
       "<style scoped>\n",
       "    .dataframe tbody tr th:only-of-type {\n",
       "        vertical-align: middle;\n",
       "    }\n",
       "\n",
       "    .dataframe tbody tr th {\n",
       "        vertical-align: top;\n",
       "    }\n",
       "\n",
       "    .dataframe thead th {\n",
       "        text-align: right;\n",
       "    }\n",
       "</style>\n",
       "<table border=\"1\" class=\"dataframe\">\n",
       "  <thead>\n",
       "    <tr style=\"text-align: right;\">\n",
       "      <th></th>\n",
       "      <th>Unnamed: 0</th>\n",
       "      <th>pclass</th>\n",
       "      <th>survived</th>\n",
       "      <th>name</th>\n",
       "      <th>sex</th>\n",
       "      <th>age</th>\n",
       "      <th>sibsp</th>\n",
       "      <th>parch</th>\n",
       "      <th>ticket</th>\n",
       "      <th>fare</th>\n",
       "      <th>cabin</th>\n",
       "      <th>embarked</th>\n",
       "      <th>boat</th>\n",
       "      <th>body</th>\n",
       "      <th>home.dest</th>\n",
       "    </tr>\n",
       "  </thead>\n",
       "  <tbody>\n",
       "    <tr>\n",
       "      <th>0</th>\n",
       "      <td>1</td>\n",
       "      <td>1st</td>\n",
       "      <td>1</td>\n",
       "      <td>Allen, Miss. Elisabeth Walton</td>\n",
       "      <td>female</td>\n",
       "      <td>29.0000</td>\n",
       "      <td>0</td>\n",
       "      <td>0</td>\n",
       "      <td>24160</td>\n",
       "      <td>211.337494</td>\n",
       "      <td>B5</td>\n",
       "      <td>Southampton</td>\n",
       "      <td>2</td>\n",
       "      <td>NaN</td>\n",
       "      <td>St Louis, MO</td>\n",
       "    </tr>\n",
       "    <tr>\n",
       "      <th>1</th>\n",
       "      <td>2</td>\n",
       "      <td>1st</td>\n",
       "      <td>1</td>\n",
       "      <td>Allison, Master. Hudson Trevor</td>\n",
       "      <td>male</td>\n",
       "      <td>0.9167</td>\n",
       "      <td>1</td>\n",
       "      <td>2</td>\n",
       "      <td>113781</td>\n",
       "      <td>151.550003</td>\n",
       "      <td>C22 C26</td>\n",
       "      <td>Southampton</td>\n",
       "      <td>11</td>\n",
       "      <td>NaN</td>\n",
       "      <td>Montreal, PQ / Chesterville, ON</td>\n",
       "    </tr>\n",
       "    <tr>\n",
       "      <th>2</th>\n",
       "      <td>3</td>\n",
       "      <td>1st</td>\n",
       "      <td>0</td>\n",
       "      <td>Allison, Miss. Helen Loraine</td>\n",
       "      <td>female</td>\n",
       "      <td>2.0000</td>\n",
       "      <td>1</td>\n",
       "      <td>2</td>\n",
       "      <td>113781</td>\n",
       "      <td>151.550003</td>\n",
       "      <td>C22 C26</td>\n",
       "      <td>Southampton</td>\n",
       "      <td>NaN</td>\n",
       "      <td>NaN</td>\n",
       "      <td>Montreal, PQ / Chesterville, ON</td>\n",
       "    </tr>\n",
       "    <tr>\n",
       "      <th>3</th>\n",
       "      <td>4</td>\n",
       "      <td>1st</td>\n",
       "      <td>0</td>\n",
       "      <td>Allison, Mr. Hudson Joshua Crei</td>\n",
       "      <td>male</td>\n",
       "      <td>30.0000</td>\n",
       "      <td>1</td>\n",
       "      <td>2</td>\n",
       "      <td>113781</td>\n",
       "      <td>151.550003</td>\n",
       "      <td>C22 C26</td>\n",
       "      <td>Southampton</td>\n",
       "      <td>NaN</td>\n",
       "      <td>135.0</td>\n",
       "      <td>Montreal, PQ / Chesterville, ON</td>\n",
       "    </tr>\n",
       "    <tr>\n",
       "      <th>4</th>\n",
       "      <td>5</td>\n",
       "      <td>1st</td>\n",
       "      <td>0</td>\n",
       "      <td>Allison, Mrs. Hudson J C (Bessi</td>\n",
       "      <td>female</td>\n",
       "      <td>25.0000</td>\n",
       "      <td>1</td>\n",
       "      <td>2</td>\n",
       "      <td>113781</td>\n",
       "      <td>151.550003</td>\n",
       "      <td>C22 C26</td>\n",
       "      <td>Southampton</td>\n",
       "      <td>NaN</td>\n",
       "      <td>NaN</td>\n",
       "      <td>Montreal, PQ / Chesterville, ON</td>\n",
       "    </tr>\n",
       "  </tbody>\n",
       "</table>\n",
       "</div>"
      ],
      "text/plain": [
       "   Unnamed: 0 pclass  survived                             name     sex  \\\n",
       "0           1    1st         1    Allen, Miss. Elisabeth Walton  female   \n",
       "1           2    1st         1   Allison, Master. Hudson Trevor    male   \n",
       "2           3    1st         0     Allison, Miss. Helen Loraine  female   \n",
       "3           4    1st         0  Allison, Mr. Hudson Joshua Crei    male   \n",
       "4           5    1st         0  Allison, Mrs. Hudson J C (Bessi  female   \n",
       "\n",
       "       age  sibsp  parch  ticket        fare    cabin     embarked boat  \\\n",
       "0  29.0000      0      0   24160  211.337494       B5  Southampton    2   \n",
       "1   0.9167      1      2  113781  151.550003  C22 C26  Southampton   11   \n",
       "2   2.0000      1      2  113781  151.550003  C22 C26  Southampton  NaN   \n",
       "3  30.0000      1      2  113781  151.550003  C22 C26  Southampton  NaN   \n",
       "4  25.0000      1      2  113781  151.550003  C22 C26  Southampton  NaN   \n",
       "\n",
       "    body                        home.dest  \n",
       "0    NaN                     St Louis, MO  \n",
       "1    NaN  Montreal, PQ / Chesterville, ON  \n",
       "2    NaN  Montreal, PQ / Chesterville, ON  \n",
       "3  135.0  Montreal, PQ / Chesterville, ON  \n",
       "4    NaN  Montreal, PQ / Chesterville, ON  "
      ]
     },
     "execution_count": 2,
     "metadata": {},
     "output_type": "execute_result"
    }
   ],
   "source": [
    "import pandas as pd\n",
    "pd.options.mode.chained_assignment = None\n",
    "import numpy as np\n",
    "import matplotlib.pyplot as plt\n",
    "import math                             # Added the math lib for math.isnan()\n",
    "\n",
    "titanic = pd.read_csv('./Titanic.csv')\n",
    "\n",
    "# Display the first few rows of the dataframe\n",
    "titanic.head()"
   ]
  },
  {
   "cell_type": "markdown",
   "metadata": {},
   "source": [
    "# Step 1"
   ]
  },
  {
   "cell_type": "code",
   "execution_count": 3,
   "metadata": {
    "pycharm": {
     "name": "#%%\n"
    }
   },
   "outputs": [],
   "source": [
    "def QuantileBinning(feature, bin_number):\n",
    "    \"\"\"\n",
    "    This function takes a numerical feature and the number of bins, and\n",
    "    returns the feature binned into quantile-based bins.\n",
    "\n",
    "    Parameters:\n",
    "    - feature (pandas.Series): The numerical feature to be binned.\n",
    "    - bin_number (int): The number of quantile bins.\n",
    "\n",
    "    Returns:\n",
    "    - pandas.Series: A series of discrete features binned by quantile.\n",
    "    \"\"\"\n",
    "    # Use qcut to create quantile-based bins for the feature\n",
    "    # If there are fewer unique values than bins, qcut could throw an error.\n",
    "    # 'duplicates' parameter handles this by dropping redundant bins.\n",
    "    return pd.qcut(feature, q=bin_number, labels=False, duplicates='drop')\n",
    "\n",
    "# One example\n",
    "feature_test = pd.DataFrame(np.random.rand(100),  columns=['Column_A'])\n",
    "feature_test_discrete = QuantileBinning(feature_test['Column_A'], 10)\n",
    "\n",
    "def label_encoder(feature):\n",
    "    unique_labels = pd.unique(feature)\n",
    "    label_to_int = {label: idx for idx, label in enumerate(unique_labels)}\n",
    "    transformed_feature = np.array([label_to_int[label] for label in feature])\n",
    "    return transformed_feature"
   ]
  },
  {
   "cell_type": "code",
   "execution_count": 4,
   "metadata": {
    "pycharm": {
     "name": "#%%\n"
    }
   },
   "outputs": [],
   "source": [
    "# Fill missing values in 'age' with the average age\n",
    "from sklearn.model_selection import train_test_split\n",
    "\n",
    "mean_age = 0    # sum of ages\n",
    "i = 0           # Number of valid ages\n",
    "for age in titanic[\"age\"]:\n",
    "    age = float(age)\n",
    "    if not(math.isnan(age)):\n",
    "        mean_age += age\n",
    "        i += 1\n",
    "mean_age = mean_age/i\n",
    "\n",
    "for index, row in titanic.iterrows():\n",
    "    # Replace NaNs\n",
    "    if math.isnan(row[\"age\"]):\n",
    "        titanic.loc[index, \"age\"] = mean_age\n",
    "\n",
    "    # Check if equal to 1 or 0\n",
    "                                                   \n",
    "# Discretization\n",
    "INDEPENDENT_VARIABLES = [\"pclass\",\n",
    "                         \"sex\",\n",
    "                         \"age\",\n",
    "                         \"sibsp\"]\n",
    "DEPENDENT_VARIABLE = \"survived\"\n",
    "x_data = titanic.loc[:, INDEPENDENT_VARIABLES]\n",
    "y_data = titanic.loc[:, DEPENDENT_VARIABLE]\n",
    "\n",
    "\n",
    "# Split the data into 80% training and 20% test sets\n",
    "x_training, x_testing, y_training, y_testing = train_test_split(\n",
    "    x_data,\n",
    "    y_data,\n",
    "    test_size = 0.2\n",
    ")"
   ]
  },
  {
   "cell_type": "markdown",
   "metadata": {},
   "source": [
    "The most important stage of this section is filling in any gaps in the \"age\" attribute. Therefore, all present ages are added up and divided to find the average of a passenger. Any blanks are filled with this information.\n",
    "Since age is continuous, the `QuantileBinning()` method is called to split the ages into 10 distinct \"bins.\" Data is further segmented into x_training, x_testing, y_training, y_testing using an 80/20 split. This is accomplished though the `train_test_split()` method."
   ]
  },
  {
   "cell_type": "markdown",
   "metadata": {},
   "source": [
    "# Step 2"
   ]
  },
  {
   "cell_type": "code",
   "execution_count": 5,
   "metadata": {
    "pycharm": {
     "name": "#%%\n"
    }
   },
   "outputs": [
    {
     "name": "stdout",
     "output_type": "stream",
     "text": [
      "{'pclass': 0.07318397527713105, 'sex': 0.22133831862380615, 'age': 0.02301859941624973, 'sibsp': nan}\n"
     ]
    },
    {
     "name": "stderr",
     "output_type": "stream",
     "text": [
      "C:\\Users\\camer\\AppData\\Local\\Temp\\ipykernel_29364\\2195671806.py:26: RuntimeWarning: divide by zero encountered in log2\n",
      "  (t/total_samples) * ((-p/t)*np.log2(p/t) - (n/t)*np.log2(n/t))\n",
      "C:\\Users\\camer\\AppData\\Local\\Temp\\ipykernel_29364\\2195671806.py:26: RuntimeWarning: invalid value encountered in double_scalars\n",
      "  (t/total_samples) * ((-p/t)*np.log2(p/t) - (n/t)*np.log2(n/t))\n"
     ]
    }
   ],
   "source": [
    "### Implementing quantile binning ###\n",
    "NUM_BINS = 10\n",
    "x_training[\"age\"] = QuantileBinning(x_training[\"age\"], NUM_BINS)\n",
    "x_testing[\"age\"] = QuantileBinning(x_testing[\"age\"], NUM_BINS)\n",
    "\n",
    "# define your entropy function and information gain function\n",
    "def calc_entropy(x_data, y_data):\n",
    "    total_samples = len(x_data)\n",
    "    value_vec = x_data.unique()\n",
    "    temp_df = pd.concat([x_data, y_data], \n",
    "                        axis=1,\n",
    "                        keys=[\"x_data\",\"y_data\"])\n",
    "    entropy_vec = []\n",
    "    for novel_value in value_vec:\n",
    "        p = 0\n",
    "        n = 0\n",
    "        t = 0\n",
    "        for index, row in temp_df.iterrows():\n",
    "            if row[\"x_data\"] == novel_value:\n",
    "                if row[\"y_data\"] == 1:\n",
    "                    p += 1\n",
    "                else:\n",
    "                    n += 1\n",
    "                t += 1\n",
    "        entropy_vec.append(\n",
    "            (t/total_samples) * ((-p/t)*np.log2(p/t) - (n/t)*np.log2(n/t))\n",
    "        )\n",
    "    \n",
    "    return sum(entropy_vec)\n",
    "\n",
    "p = y_training.value_counts()[1]\n",
    "n = y_training.value_counts()[0]\n",
    "t = len(y_training)\n",
    "baseline = (-p/t)*np.log2(p/t) - (n/t)*np.log2(n/t)\n",
    "info_gains = {}\n",
    "for attribute in INDEPENDENT_VARIABLES:\n",
    "    this_entropy = calc_entropy(x_training[attribute], y_training)\n",
    "    info_gains[attribute] = baseline - this_entropy\n",
    "\n",
    "print(info_gains)\n"
   ]
  },
  {
   "cell_type": "markdown",
   "metadata": {},
   "source": [
    "Entropy is calculated in this step as defined in slide 8 of lecture 4. Entropy for each value in each attribute is calculated, then the individual entropies for each attribute are summed. Finally, each attribute is compared to find the best parameters.\n",
    "Unfortunently, I ran into a divide by 0 error for the sibsp attribute. I assume that this is due to some bad data formatting, but I ran out of time to debug it properly. All other values seem to be in line though."
   ]
  },
  {
   "cell_type": "markdown",
   "metadata": {},
   "source": [
    "# Step 3"
   ]
  },
  {
   "cell_type": "code",
   "execution_count": 6,
   "metadata": {
    "pycharm": {
     "name": "#%%\n"
    }
   },
   "outputs": [
    {
     "data": {
      "text/plain": [
       "[Text(168.2048076923077, 201.90857142857143, 'X[0] <= 0.5\\ngini = 0.475\\nsamples = 1047\\nvalue = [641, 406]'),\n",
       " Text(83.16346153846153, 170.84571428571428, 'X[1] <= 0.5\\ngini = 0.299\\nsamples = 657\\nvalue = [537, 120]'),\n",
       " Text(40.776923076923076, 139.78285714285715, 'X[3] <= 6.5\\ngini = 0.443\\nsamples = 139\\nvalue = [93, 46]'),\n",
       " Text(19.315384615384616, 108.72, 'X[3] <= 0.5\\ngini = 0.49\\nsamples = 79\\nvalue = [45, 34]'),\n",
       " Text(8.584615384615384, 77.65714285714284, 'X[2] <= 0.5\\ngini = 0.32\\nsamples = 5\\nvalue = [1, 4]'),\n",
       " Text(4.292307692307692, 46.59428571428572, 'gini = 0.444\\nsamples = 3\\nvalue = [1, 2]'),\n",
       " Text(12.876923076923077, 46.59428571428572, 'gini = 0.0\\nsamples = 2\\nvalue = [0, 2]'),\n",
       " Text(30.046153846153846, 77.65714285714284, 'X[3] <= 2.5\\ngini = 0.482\\nsamples = 74\\nvalue = [44, 30]'),\n",
       " Text(21.46153846153846, 46.59428571428572, 'X[2] <= 0.5\\ngini = 0.397\\nsamples = 11\\nvalue = [8, 3]'),\n",
       " Text(17.16923076923077, 15.531428571428563, 'gini = 0.408\\nsamples = 7\\nvalue = [5, 2]'),\n",
       " Text(25.753846153846155, 15.531428571428563, 'gini = 0.375\\nsamples = 4\\nvalue = [3, 1]'),\n",
       " Text(38.63076923076923, 46.59428571428572, 'X[3] <= 3.5\\ngini = 0.49\\nsamples = 63\\nvalue = [36, 27]'),\n",
       " Text(34.33846153846154, 15.531428571428563, 'gini = 0.486\\nsamples = 12\\nvalue = [5, 7]'),\n",
       " Text(42.92307692307692, 15.531428571428563, 'gini = 0.477\\nsamples = 51\\nvalue = [31, 20]'),\n",
       " Text(62.238461538461536, 108.72, 'X[2] <= 0.5\\ngini = 0.32\\nsamples = 60\\nvalue = [48, 12]'),\n",
       " Text(51.50769230769231, 77.65714285714284, 'X[3] <= 7.5\\ngini = 0.234\\nsamples = 37\\nvalue = [32, 5]'),\n",
       " Text(47.215384615384615, 46.59428571428572, 'gini = 0.231\\nsamples = 15\\nvalue = [13, 2]'),\n",
       " Text(55.8, 46.59428571428572, 'gini = 0.236\\nsamples = 22\\nvalue = [19, 3]'),\n",
       " Text(72.96923076923076, 77.65714285714284, 'X[3] <= 7.5\\ngini = 0.423\\nsamples = 23\\nvalue = [16, 7]'),\n",
       " Text(64.38461538461539, 46.59428571428572, 'X[2] <= 1.5\\ngini = 0.5\\nsamples = 8\\nvalue = [4, 4]'),\n",
       " Text(60.09230769230769, 15.531428571428563, 'gini = 0.49\\nsamples = 7\\nvalue = [3, 4]'),\n",
       " Text(68.67692307692307, 15.531428571428563, 'gini = 0.0\\nsamples = 1\\nvalue = [1, 0]'),\n",
       " Text(81.55384615384615, 46.59428571428572, 'X[2] <= 1.5\\ngini = 0.32\\nsamples = 15\\nvalue = [12, 3]'),\n",
       " Text(77.26153846153846, 15.531428571428563, 'gini = 0.245\\nsamples = 14\\nvalue = [12, 2]'),\n",
       " Text(85.84615384615384, 15.531428571428563, 'gini = 0.0\\nsamples = 1\\nvalue = [0, 1]'),\n",
       " Text(125.55, 139.78285714285715, 'X[3] <= 0.5\\ngini = 0.245\\nsamples = 518\\nvalue = [444, 74]'),\n",
       " Text(103.01538461538462, 108.72, 'X[1] <= 1.5\\ngini = 0.444\\nsamples = 51\\nvalue = [34, 17]'),\n",
       " Text(94.43076923076923, 77.65714285714284, 'X[2] <= 0.5\\ngini = 0.32\\nsamples = 10\\nvalue = [2, 8]'),\n",
       " Text(90.13846153846154, 46.59428571428572, 'gini = 0.5\\nsamples = 4\\nvalue = [2, 2]'),\n",
       " Text(98.72307692307692, 46.59428571428572, 'gini = 0.0\\nsamples = 6\\nvalue = [0, 6]'),\n",
       " Text(111.6, 77.65714285714284, 'X[2] <= 1.5\\ngini = 0.343\\nsamples = 41\\nvalue = [32, 9]'),\n",
       " Text(107.3076923076923, 46.59428571428572, 'X[2] <= 0.5\\ngini = 0.453\\nsamples = 26\\nvalue = [17, 9]'),\n",
       " Text(103.01538461538462, 15.531428571428563, 'gini = 0.426\\nsamples = 13\\nvalue = [9, 4]'),\n",
       " Text(111.6, 15.531428571428563, 'gini = 0.473\\nsamples = 13\\nvalue = [8, 5]'),\n",
       " Text(115.89230769230768, 46.59428571428572, 'gini = 0.0\\nsamples = 15\\nvalue = [15, 0]'),\n",
       " Text(148.08461538461538, 108.72, 'X[3] <= 5.5\\ngini = 0.214\\nsamples = 467\\nvalue = [410, 57]'),\n",
       " Text(133.06153846153845, 77.65714285714284, 'X[1] <= 1.5\\ngini = 0.247\\nsamples = 354\\nvalue = [303, 51]'),\n",
       " Text(124.47692307692307, 46.59428571428572, 'X[3] <= 4.5\\ngini = 0.191\\nsamples = 75\\nvalue = [67, 8]'),\n",
       " Text(120.18461538461538, 15.531428571428563, 'gini = 0.222\\nsamples = 63\\nvalue = [55, 8]'),\n",
       " Text(128.76923076923077, 15.531428571428563, 'gini = 0.0\\nsamples = 12\\nvalue = [12, 0]'),\n",
       " Text(141.64615384615385, 46.59428571428572, 'X[3] <= 4.5\\ngini = 0.261\\nsamples = 279\\nvalue = [236, 43]'),\n",
       " Text(137.35384615384615, 15.531428571428563, 'gini = 0.243\\nsamples = 261\\nvalue = [224, 37]'),\n",
       " Text(145.93846153846152, 15.531428571428563, 'gini = 0.444\\nsamples = 18\\nvalue = [12, 6]'),\n",
       " Text(163.1076923076923, 77.65714285714284, 'X[2] <= 0.5\\ngini = 0.101\\nsamples = 113\\nvalue = [107, 6]'),\n",
       " Text(158.8153846153846, 46.59428571428572, 'X[3] <= 7.5\\ngini = 0.126\\nsamples = 89\\nvalue = [83, 6]'),\n",
       " Text(154.52307692307693, 15.531428571428563, 'gini = 0.138\\nsamples = 67\\nvalue = [62, 5]'),\n",
       " Text(163.1076923076923, 15.531428571428563, 'gini = 0.087\\nsamples = 22\\nvalue = [21, 1]'),\n",
       " Text(167.4, 46.59428571428572, 'gini = 0.0\\nsamples = 24\\nvalue = [24, 0]'),\n",
       " Text(253.24615384615385, 170.84571428571428, 'X[1] <= 1.5\\ngini = 0.391\\nsamples = 390\\nvalue = [104, 286]'),\n",
       " Text(211.39615384615385, 139.78285714285715, 'X[1] <= 0.5\\ngini = 0.116\\nsamples = 211\\nvalue = [13, 198]'),\n",
       " Text(191.0076923076923, 108.72, 'X[3] <= 0.5\\ngini = 0.079\\nsamples = 122\\nvalue = [5, 117]'),\n",
       " Text(180.27692307692308, 77.65714285714284, 'X[2] <= 0.5\\ngini = 0.219\\nsamples = 8\\nvalue = [1, 7]'),\n",
       " Text(175.98461538461538, 46.59428571428572, 'gini = 0.0\\nsamples = 4\\nvalue = [0, 4]'),\n",
       " Text(184.56923076923076, 46.59428571428572, 'gini = 0.375\\nsamples = 4\\nvalue = [1, 3]'),\n",
       " Text(201.73846153846154, 77.65714285714284, 'X[3] <= 7.5\\ngini = 0.068\\nsamples = 114\\nvalue = [4, 110]'),\n",
       " Text(193.15384615384616, 46.59428571428572, 'X[3] <= 2.5\\ngini = 0.046\\nsamples = 85\\nvalue = [2, 83]'),\n",
       " Text(188.86153846153846, 15.531428571428563, 'gini = 0.0\\nsamples = 22\\nvalue = [0, 22]'),\n",
       " Text(197.44615384615383, 15.531428571428563, 'gini = 0.061\\nsamples = 63\\nvalue = [2, 61]'),\n",
       " Text(210.3230769230769, 46.59428571428572, 'X[2] <= 1.5\\ngini = 0.128\\nsamples = 29\\nvalue = [2, 27]'),\n",
       " Text(206.03076923076924, 15.531428571428563, 'gini = 0.137\\nsamples = 27\\nvalue = [2, 25]'),\n",
       " Text(214.6153846153846, 15.531428571428563, 'gini = 0.0\\nsamples = 2\\nvalue = [0, 2]'),\n",
       " Text(231.78461538461536, 108.72, 'X[3] <= 1.5\\ngini = 0.164\\nsamples = 89\\nvalue = [8, 81]'),\n",
       " Text(227.4923076923077, 77.65714285714284, 'gini = 0.0\\nsamples = 24\\nvalue = [0, 24]'),\n",
       " Text(236.07692307692307, 77.65714285714284, 'X[3] <= 4.5\\ngini = 0.216\\nsamples = 65\\nvalue = [8, 57]'),\n",
       " Text(227.4923076923077, 46.59428571428572, 'X[3] <= 2.5\\ngini = 0.32\\nsamples = 30\\nvalue = [6, 24]'),\n",
       " Text(223.2, 15.531428571428563, 'gini = 0.245\\nsamples = 14\\nvalue = [2, 12]'),\n",
       " Text(231.78461538461536, 15.531428571428563, 'gini = 0.375\\nsamples = 16\\nvalue = [4, 12]'),\n",
       " Text(244.66153846153844, 46.59428571428572, 'X[3] <= 7.5\\ngini = 0.108\\nsamples = 35\\nvalue = [2, 33]'),\n",
       " Text(240.36923076923077, 15.531428571428563, 'gini = 0.067\\nsamples = 29\\nvalue = [1, 28]'),\n",
       " Text(248.95384615384614, 15.531428571428563, 'gini = 0.278\\nsamples = 6\\nvalue = [1, 5]'),\n",
       " Text(295.0961538461538, 139.78285714285715, 'X[2] <= 2.5\\ngini = 0.5\\nsamples = 179\\nvalue = [91, 88]'),\n",
       " Text(272.5615384615385, 108.72, 'X[3] <= 0.5\\ngini = 0.498\\nsamples = 163\\nvalue = [77, 86]'),\n",
       " Text(257.53846153846155, 77.65714285714284, 'X[2] <= 0.5\\ngini = 0.42\\nsamples = 30\\nvalue = [9, 21]'),\n",
       " Text(253.24615384615385, 46.59428571428572, 'gini = 0.391\\nsamples = 15\\nvalue = [4, 11]'),\n",
       " Text(261.83076923076925, 46.59428571428572, 'X[2] <= 1.5\\ngini = 0.444\\nsamples = 15\\nvalue = [5, 10]'),\n",
       " Text(257.53846153846155, 15.531428571428563, 'gini = 0.463\\nsamples = 11\\nvalue = [4, 7]'),\n",
       " Text(266.1230769230769, 15.531428571428563, 'gini = 0.375\\nsamples = 4\\nvalue = [1, 3]'),\n",
       " Text(287.58461538461535, 77.65714285714284, 'X[3] <= 6.5\\ngini = 0.5\\nsamples = 133\\nvalue = [68, 65]'),\n",
       " Text(279.0, 46.59428571428572, 'X[3] <= 1.5\\ngini = 0.5\\nsamples = 121\\nvalue = [59, 62]'),\n",
       " Text(274.7076923076923, 15.531428571428563, 'gini = 0.476\\nsamples = 23\\nvalue = [14, 9]'),\n",
       " Text(283.2923076923077, 15.531428571428563, 'gini = 0.497\\nsamples = 98\\nvalue = [45, 53]'),\n",
       " Text(296.16923076923075, 46.59428571428572, 'X[3] <= 7.5\\ngini = 0.375\\nsamples = 12\\nvalue = [9, 3]'),\n",
       " Text(291.87692307692305, 15.531428571428563, 'gini = 0.298\\nsamples = 11\\nvalue = [9, 2]'),\n",
       " Text(300.46153846153845, 15.531428571428563, 'gini = 0.0\\nsamples = 1\\nvalue = [0, 1]'),\n",
       " Text(317.6307692307692, 108.72, 'X[3] <= 5.0\\ngini = 0.219\\nsamples = 16\\nvalue = [14, 2]'),\n",
       " Text(309.04615384615386, 77.65714285714284, 'X[2] <= 3.5\\ngini = 0.133\\nsamples = 14\\nvalue = [13, 1]'),\n",
       " Text(304.75384615384615, 46.59428571428572, 'gini = 0.0\\nsamples = 6\\nvalue = [6, 0]'),\n",
       " Text(313.3384615384615, 46.59428571428572, 'X[2] <= 4.5\\ngini = 0.219\\nsamples = 8\\nvalue = [7, 1]'),\n",
       " Text(309.04615384615386, 15.531428571428563, 'gini = 0.375\\nsamples = 4\\nvalue = [3, 1]'),\n",
       " Text(317.6307692307692, 15.531428571428563, 'gini = 0.0\\nsamples = 4\\nvalue = [4, 0]'),\n",
       " Text(326.2153846153846, 77.65714285714284, 'X[2] <= 3.5\\ngini = 0.5\\nsamples = 2\\nvalue = [1, 1]'),\n",
       " Text(321.9230769230769, 46.59428571428572, 'gini = 0.0\\nsamples = 1\\nvalue = [0, 1]'),\n",
       " Text(330.5076923076923, 46.59428571428572, 'gini = 0.0\\nsamples = 1\\nvalue = [1, 0]')]"
      ]
     },
     "execution_count": 6,
     "metadata": {},
     "output_type": "execute_result"
    },
    {
     "data": {
      "image/png": "[encoded data removed]",
      "text/plain": [
       "<Figure size 432x288 with 1 Axes>"
      ]
     },
     "metadata": {
      "needs_background": "light"
     },
     "output_type": "display_data"
    }
   ],
   "source": [
    "from sklearn.tree import DecisionTreeClassifier, plot_tree #sklearn.metrics is not imported !!!\n",
    "\n",
    "# Instantiate the DecisionTreeClassifier\n",
    "tree_classifier = DecisionTreeClassifier(max_depth=6)\n",
    "\n",
    "# Prepare the features and target variables for training\n",
    "# Values in \"sex\" and \"pclass\" need to be replaced w floats\n",
    "                   \n",
    "feature_list = pd.concat([x_training[\"sex\"].replace({\"male\": 0,\n",
    "                                                    \"female\": 1}),\n",
    "                          x_training[\"pclass\"].replace({\"1st\":0,\n",
    "                          \"2nd\":1,\n",
    "                          \"3rd\":2}),\n",
    "                          x_training[\"sibsp\"],\n",
    "                          x_training[\"age\"]],\n",
    "                          axis=1\n",
    ")\n",
    "\n",
    "# Fit the decision tree model\n",
    "tree_classifier.fit(feature_list.values,\n",
    "                    y_training)\n",
    "\n",
    "# Plot the full decision tree\n",
    "plot_tree(tree_classifier)\n"
   ]
  },
  {
   "cell_type": "markdown",
   "metadata": {},
   "source": [
    "Finally, we arrive at the actual decision tree generator. Each feature is concatinated into one dataframe, in order of importance as defined in step 3. This dataframe is given to an object that was returned by the `DecisionTreeClassifier()` method. Calling `fit()` will train the model"
   ]
  },
  {
   "cell_type": "code",
   "execution_count": 7,
   "metadata": {
    "pycharm": {
     "name": "#%%\n"
    }
   },
   "outputs": [
    {
     "name": "stdout",
     "output_type": "stream",
     "text": [
      "(0.72, 0.574468085106383, 0.6390532544378699)\n"
     ]
    }
   ],
   "source": [
    "# Define your performance metrics including accuracy, precision, recall and F1-score\n",
    "\n",
    "def test_tree(x_testing, y_testing, model):\n",
    "    # Pass in test datasets for x and y as well as the trained model\n",
    "    # Return precision, recall, F1 score\n",
    "    # Some definitions upfront\n",
    "    positive = 1    # Value of a Positive\n",
    "    negative = 0    # Value of a Negative\n",
    "    TP = 0          # Num. of true positives\n",
    "    TN = 0          # Num. of true negatives\n",
    "    FP = 0          # Num. of false positives\n",
    "    FN = 0          # Num. of false negatives\n",
    "\n",
    "    for index, row in x_testing.iterrows():\n",
    "        prediction = model.predict([row.values])\n",
    "        if prediction == y_testing[index] == positive:\n",
    "            TP += 1\n",
    "        elif prediction == y_testing[index] == negative:\n",
    "            TN += 1\n",
    "        else:\n",
    "            if y_testing[index] == positive:\n",
    "                FN += 1\n",
    "            elif y_testing[index] == negative:\n",
    "                FP += 1\n",
    "\n",
    "    precision = TP/(TP+FP)\n",
    "    recall = TP/(TP+FN)\n",
    "    F1 = 2*(precision * recall)/(precision + recall)\n",
    "    return precision, recall, F1\n",
    "\n",
    "feature_list_testing = pd.concat([x_testing[\"sex\"].replace({\"male\": 0,\n",
    "                                                    \"female\": 1}),\n",
    "                          x_testing[\"pclass\"].replace({\"1st\":0,\n",
    "                          \"2nd\":1,\n",
    "                          \"3rd\":2}),\n",
    "                          x_testing[\"sibsp\"],\n",
    "                          x_testing[\"age\"]],\n",
    "                          axis=1\n",
    "                        )\n",
    "\n",
    "print(test_tree(feature_list_testing, y_testing, tree_classifier))\n"
   ]
  },
  {
   "cell_type": "markdown",
   "metadata": {},
   "source": [
    "The performance of the model can be evaluated by using a custom function called `test_tree()`, which finds the number of true positive, true negative, false positive, and false negative values and determines the precision, recall, and F1 scores of the model, which are then printed."
   ]
  },
  {
   "cell_type": "markdown",
   "metadata": {},
   "source": [
    "# Step 4"
   ]
  },
  {
   "cell_type": "code",
   "execution_count": 8,
   "metadata": {
    "pycharm": {
     "name": "#%%\n"
    }
   },
   "outputs": [
    {
     "name": "stdout",
     "output_type": "stream",
     "text": [
      "(0.7432432432432432, 0.5851063829787234, 0.6547619047619048)\n"
     ]
    },
    {
     "data": {
      "image/png": "[encoded data removed]",
      "text/plain": [
       "<Figure size 432x288 with 1 Axes>"
      ]
     },
     "metadata": {
      "needs_background": "light"
     },
     "output_type": "display_data"
    }
   ],
   "source": [
    "from sklearn.model_selection import GridSearchCV\n",
    "\n",
    "# Define a range of max_leaf_nodes values to search\n",
    "param_grid = {'max_leaf_nodes': list(range(5, 20))}\n",
    "\n",
    "# Run grid search with cross-validation\n",
    "def train_model(x_training, y_training, param_grid):\n",
    "    grid_search = GridSearchCV(DecisionTreeClassifier(random_state=42), param_grid, cv=5)\n",
    "    grid_search.fit(x_training.values, y_training) # Note testing set cannot be used\n",
    "    return grid_search.best_estimator_\n",
    "\n",
    "# Get the best estimator with the optimal max_leaf_nodes parameter\n",
    "best_tree = train_model(feature_list, y_training, param_grid)\n",
    "\n",
    "# Plot the pruned decision tree\n",
    "plot_tree(best_tree)\n",
    "print(test_tree(feature_list_testing, y_testing, best_tree))"
   ]
  },
  {
   "cell_type": "markdown",
   "metadata": {},
   "source": [
    "Similar to step 3, though here we use a `GridSearchCV()` instead of a `DecisionTreeClassifier()`. Performance metrics are calculated using the same `test_tree()` function"
   ]
  },
  {
   "cell_type": "markdown",
   "metadata": {
    "pycharm": {
     "name": "#%% md\n"
    }
   },
   "source": [
    "# Step 5\n"
   ]
  },
  {
   "cell_type": "code",
   "execution_count": 14,
   "metadata": {
    "pycharm": {
     "name": "#%%\n"
    }
   },
   "outputs": [
    {
     "name": "stdout",
     "output_type": "stream",
     "text": [
      "(0.7432432432432432, 0.5851063829787234, 0.6547619047619048)\n"
     ]
    }
   ],
   "source": [
    "def ensemble_vote(models, x_testing, y_testing):\n",
    "    # I know this is horribly unoptimized\n",
    "    positive = 1    # Value of a Positive\n",
    "    negative = 0    # Value of a Negative\n",
    "    TP = 0          # Num. of true positives\n",
    "    TN = 0          # Num. of true negatives\n",
    "    FP = 0          # Num. of false positives\n",
    "    FN = 0          # Num. of false negatives\n",
    "\n",
    "    for index, row in x_testing.iterrows():\n",
    "        temp = []\n",
    "        for model in models:\n",
    "            temp.append(model.predict([row.values]))\n",
    "        prediction = max(set(temp[0]), key=temp.count)  # Funky indexing stuff\n",
    "        if prediction == y_testing[index] == positive:\n",
    "            TP += 1\n",
    "        elif prediction == y_testing[index] == negative:\n",
    "            TN += 1\n",
    "        else:\n",
    "            if y_testing[index] == positive:\n",
    "                FN += 1\n",
    "            elif y_testing[index] == negative:\n",
    "                FP += 1\n",
    "\n",
    "    precision = TP/(TP+FP)\n",
    "    recall = TP/(TP+FN)\n",
    "    F1 = 2*(precision * recall)/(precision + recall)\n",
    "    return precision, recall, F1\n",
    "\n",
    "\n",
    "# Use the defined function to get predictions from the ensemble of the three trees\n",
    "\n",
    "param_grid = {'max_leaf_nodes': list(range(5, 20)),\n",
    "                \"max_depth\": list(range(1,10))}\n",
    "\n",
    "dt_max_depth = train_model(feature_list, y_training, param_grid)\n",
    "\n",
    "param_grid = {'max_leaf_nodes': list(range(5, 20)),\n",
    "                \"min_samples_split\": [2,3,4]}\n",
    "\n",
    "dt_opt_critia = train_model(feature_list, y_training, param_grid)\n",
    "\n",
    "models = [best_tree, dt_max_depth, dt_opt_critia]\n",
    "\n",
    "# Calculate performance metrics for the ensemble using the previously defined function\n",
    "print(ensemble_vote(models, feature_list_testing, y_testing))\n"
   ]
  },
  {
   "cell_type": "markdown",
   "metadata": {},
   "source": [
    "The ensemble is generated by returning different models, trained by providing different metrics for `param_grid`. These are fed into the `ensemble_vote()` method, which is basically a derivative of the `test_tree()` method. The only exception is the slight difference in determining the prediction; in this case, the most common element of the predictions is determined to be the final prediction. \n",
    "The rest of the evaluation scheme is the same as the `test_tree()` method"
   ]
  }
 ],
 "metadata": {
  "kernelspec": {
   "display_name": "Python 3",
   "language": "python",
   "name": "python3"
  },
  "language_info": {
   "codemirror_mode": {
    "name": "ipython",
    "version": 3
   },
   "file_extension": ".py",
   "mimetype": "text/x-python",
   "name": "python",
   "nbconvert_exporter": "python",
   "pygments_lexer": "ipython3",
   "version": "3.9.5"
  }
 },
 "nbformat": 4,
 "nbformat_minor": 1
}

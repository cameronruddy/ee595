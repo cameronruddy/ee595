{
 "cells": [
  {
   "cell_type": "code",
   "execution_count": 1,
   "metadata": {
    "pycharm": {
     "name": "#%%\n"
    }
   },
   "outputs": [
    {
     "data": {
      "text/html": [
       "<div>\n",
       "<style scoped>\n",
       "    .dataframe tbody tr th:only-of-type {\n",
       "        vertical-align: middle;\n",
       "    }\n",
       "\n",
       "    .dataframe tbody tr th {\n",
       "        vertical-align: top;\n",
       "    }\n",
       "\n",
       "    .dataframe thead th {\n",
       "        text-align: right;\n",
       "    }\n",
       "</style>\n",
       "<table border=\"1\" class=\"dataframe\">\n",
       "  <thead>\n",
       "    <tr style=\"text-align: right;\">\n",
       "      <th></th>\n",
       "      <th>Unnamed: 0</th>\n",
       "      <th>pclass</th>\n",
       "      <th>survived</th>\n",
       "      <th>name</th>\n",
       "      <th>sex</th>\n",
       "      <th>age</th>\n",
       "      <th>sibsp</th>\n",
       "      <th>parch</th>\n",
       "      <th>ticket</th>\n",
       "      <th>fare</th>\n",
       "      <th>cabin</th>\n",
       "      <th>embarked</th>\n",
       "      <th>boat</th>\n",
       "      <th>body</th>\n",
       "      <th>home.dest</th>\n",
       "    </tr>\n",
       "  </thead>\n",
       "  <tbody>\n",
       "    <tr>\n",
       "      <th>0</th>\n",
       "      <td>1</td>\n",
       "      <td>1st</td>\n",
       "      <td>1</td>\n",
       "      <td>Allen, Miss. Elisabeth Walton</td>\n",
       "      <td>female</td>\n",
       "      <td>29.0000</td>\n",
       "      <td>0</td>\n",
       "      <td>0</td>\n",
       "      <td>24160</td>\n",
       "      <td>211.337494</td>\n",
       "      <td>B5</td>\n",
       "      <td>Southampton</td>\n",
       "      <td>2</td>\n",
       "      <td>NaN</td>\n",
       "      <td>St Louis, MO</td>\n",
       "    </tr>\n",
       "    <tr>\n",
       "      <th>1</th>\n",
       "      <td>2</td>\n",
       "      <td>1st</td>\n",
       "      <td>1</td>\n",
       "      <td>Allison, Master. Hudson Trevor</td>\n",
       "      <td>male</td>\n",
       "      <td>0.9167</td>\n",
       "      <td>1</td>\n",
       "      <td>2</td>\n",
       "      <td>113781</td>\n",
       "      <td>151.550003</td>\n",
       "      <td>C22 C26</td>\n",
       "      <td>Southampton</td>\n",
       "      <td>11</td>\n",
       "      <td>NaN</td>\n",
       "      <td>Montreal, PQ / Chesterville, ON</td>\n",
       "    </tr>\n",
       "    <tr>\n",
       "      <th>2</th>\n",
       "      <td>3</td>\n",
       "      <td>1st</td>\n",
       "      <td>0</td>\n",
       "      <td>Allison, Miss. Helen Loraine</td>\n",
       "      <td>female</td>\n",
       "      <td>2.0000</td>\n",
       "      <td>1</td>\n",
       "      <td>2</td>\n",
       "      <td>113781</td>\n",
       "      <td>151.550003</td>\n",
       "      <td>C22 C26</td>\n",
       "      <td>Southampton</td>\n",
       "      <td>NaN</td>\n",
       "      <td>NaN</td>\n",
       "      <td>Montreal, PQ / Chesterville, ON</td>\n",
       "    </tr>\n",
       "    <tr>\n",
       "      <th>3</th>\n",
       "      <td>4</td>\n",
       "      <td>1st</td>\n",
       "      <td>0</td>\n",
       "      <td>Allison, Mr. Hudson Joshua Crei</td>\n",
       "      <td>male</td>\n",
       "      <td>30.0000</td>\n",
       "      <td>1</td>\n",
       "      <td>2</td>\n",
       "      <td>113781</td>\n",
       "      <td>151.550003</td>\n",
       "      <td>C22 C26</td>\n",
       "      <td>Southampton</td>\n",
       "      <td>NaN</td>\n",
       "      <td>135.0</td>\n",
       "      <td>Montreal, PQ / Chesterville, ON</td>\n",
       "    </tr>\n",
       "    <tr>\n",
       "      <th>4</th>\n",
       "      <td>5</td>\n",
       "      <td>1st</td>\n",
       "      <td>0</td>\n",
       "      <td>Allison, Mrs. Hudson J C (Bessi</td>\n",
       "      <td>female</td>\n",
       "      <td>25.0000</td>\n",
       "      <td>1</td>\n",
       "      <td>2</td>\n",
       "      <td>113781</td>\n",
       "      <td>151.550003</td>\n",
       "      <td>C22 C26</td>\n",
       "      <td>Southampton</td>\n",
       "      <td>NaN</td>\n",
       "      <td>NaN</td>\n",
       "      <td>Montreal, PQ / Chesterville, ON</td>\n",
       "    </tr>\n",
       "  </tbody>\n",
       "</table>\n",
       "</div>"
      ],
      "text/plain": [
       "   Unnamed: 0 pclass  survived                             name     sex  \\\n",
       "0           1    1st         1    Allen, Miss. Elisabeth Walton  female   \n",
       "1           2    1st         1   Allison, Master. Hudson Trevor    male   \n",
       "2           3    1st         0     Allison, Miss. Helen Loraine  female   \n",
       "3           4    1st         0  Allison, Mr. Hudson Joshua Crei    male   \n",
       "4           5    1st         0  Allison, Mrs. Hudson J C (Bessi  female   \n",
       "\n",
       "       age  sibsp  parch  ticket        fare    cabin     embarked boat  \\\n",
       "0  29.0000      0      0   24160  211.337494       B5  Southampton    2   \n",
       "1   0.9167      1      2  113781  151.550003  C22 C26  Southampton   11   \n",
       "2   2.0000      1      2  113781  151.550003  C22 C26  Southampton  NaN   \n",
       "3  30.0000      1      2  113781  151.550003  C22 C26  Southampton  NaN   \n",
       "4  25.0000      1      2  113781  151.550003  C22 C26  Southampton  NaN   \n",
       "\n",
       "    body                        home.dest  \n",
       "0    NaN                     St Louis, MO  \n",
       "1    NaN  Montreal, PQ / Chesterville, ON  \n",
       "2    NaN  Montreal, PQ / Chesterville, ON  \n",
       "3  135.0  Montreal, PQ / Chesterville, ON  \n",
       "4    NaN  Montreal, PQ / Chesterville, ON  "
      ]
     },
     "execution_count": 1,
     "metadata": {},
     "output_type": "execute_result"
    }
   ],
   "source": [
    "import pandas as pd\n",
    "pd.options.mode.chained_assignment = None\n",
    "import numpy as np\n",
    "import matplotlib.pyplot as plt\n",
    "import math                             # Added the math lib for math.isnan()\n",
    "\n",
    "titanic = pd.read_csv('./Titanic.csv')\n",
    "\n",
    "# Display the first few rows of the dataframe\n",
    "titanic.head()"
   ]
  },
  {
   "cell_type": "markdown",
   "metadata": {},
   "source": [
    "# Step 1"
   ]
  },
  {
   "cell_type": "code",
   "execution_count": 2,
   "metadata": {
    "pycharm": {
     "name": "#%%\n"
    }
   },
   "outputs": [],
   "source": [
    "def QuantileBinning(feature, bin_number):\n",
    "    \"\"\"\n",
    "    This function takes a numerical feature and the number of bins, and\n",
    "    returns the feature binned into quantile-based bins.\n",
    "\n",
    "    Parameters:\n",
    "    - feature (pandas.Series): The numerical feature to be binned.\n",
    "    - bin_number (int): The number of quantile bins.\n",
    "\n",
    "    Returns:\n",
    "    - pandas.Series: A series of discrete features binned by quantile.\n",
    "    \"\"\"\n",
    "    # Use qcut to create quantile-based bins for the feature\n",
    "    # If there are fewer unique values than bins, qcut could throw an error.\n",
    "    # 'duplicates' parameter handles this by dropping redundant bins.\n",
    "    return pd.qcut(feature, q=bin_number, labels=False, duplicates='drop')\n",
    "\n",
    "# One example\n",
    "feature_test = pd.DataFrame(np.random.rand(100),  columns=['Column_A'])\n",
    "feature_test_discrete = QuantileBinning(feature_test['Column_A'], 10)\n",
    "\n",
    "def label_encoder(feature):\n",
    "    unique_labels = pd.unique(feature)\n",
    "    label_to_int = {label: idx for idx, label in enumerate(unique_labels)}\n",
    "    transformed_feature = np.array([label_to_int[label] for label in feature])\n",
    "    return transformed_feature"
   ]
  },
  {
   "cell_type": "code",
   "execution_count": 3,
   "metadata": {
    "pycharm": {
     "name": "#%%\n"
    }
   },
   "outputs": [],
   "source": [
    "# Fill missing values in 'age' with the average age\n",
    "from sklearn.model_selection import train_test_split\n",
    "\n",
    "mean_age = 0    # sum of ages\n",
    "i = 0           # Number of valid ages\n",
    "for age in titanic[\"age\"]:\n",
    "    age = float(age)\n",
    "    if not(math.isnan(age)):\n",
    "        mean_age += age\n",
    "        i += 1\n",
    "mean_age = mean_age/i\n",
    "\n",
    "for index, row in titanic.iterrows():\n",
    "    # Replace NaNs\n",
    "    if math.isnan(row[\"age\"]):\n",
    "        titanic.loc[index, \"age\"] = mean_age\n",
    "\n",
    "    # Check if equal to 1 or 0\n",
    "                                                   \n",
    "# Discretization\n",
    "INDEPENDENT_VARIABLES = [\"pclass\",\n",
    "                         \"sex\",\n",
    "                         \"age\",\n",
    "                         \"sibsp\"]\n",
    "DEPENDENT_VARIABLE = \"survived\"\n",
    "x_data = titanic.loc[:, INDEPENDENT_VARIABLES]\n",
    "y_data = titanic.loc[:, DEPENDENT_VARIABLE]\n",
    "\n",
    "\n",
    "# Split the data into 80% training and 20% test sets\n",
    "x_training, x_testing, y_training, y_testing = train_test_split(\n",
    "    x_data,\n",
    "    y_data,\n",
    "    test_size = 0.2\n",
    ")"
   ]
  },
  {
   "cell_type": "markdown",
   "metadata": {},
   "source": [
    "# Step 2"
   ]
  },
  {
   "cell_type": "code",
   "execution_count": 4,
   "metadata": {
    "pycharm": {
     "name": "#%%\n"
    }
   },
   "outputs": [
    {
     "name": "stderr",
     "output_type": "stream",
     "text": [
      "/var/folders/p4/xs6f6dtd5c36n61ghmv853580000gn/T/ipykernel_1636/2195671806.py:26: RuntimeWarning: divide by zero encountered in log2\n",
      "  (t/total_samples) * ((-p/t)*np.log2(p/t) - (n/t)*np.log2(n/t))\n",
      "/var/folders/p4/xs6f6dtd5c36n61ghmv853580000gn/T/ipykernel_1636/2195671806.py:26: RuntimeWarning: invalid value encountered in scalar multiply\n",
      "  (t/total_samples) * ((-p/t)*np.log2(p/t) - (n/t)*np.log2(n/t))\n"
     ]
    },
    {
     "name": "stdout",
     "output_type": "stream",
     "text": [
      "{'pclass': 0.0661723031196707, 'sex': 0.20730216229936294, 'age': 0.01736044435065265, 'sibsp': nan}\n"
     ]
    }
   ],
   "source": [
    "### Implementing quantile binning ###\n",
    "NUM_BINS = 10\n",
    "x_training[\"age\"] = QuantileBinning(x_training[\"age\"], NUM_BINS)\n",
    "x_testing[\"age\"] = QuantileBinning(x_testing[\"age\"], NUM_BINS)\n",
    "\n",
    "# define your entropy function and information gain function\n",
    "def calc_entropy(x_data, y_data):\n",
    "    total_samples = len(x_data)\n",
    "    value_vec = x_data.unique()\n",
    "    temp_df = pd.concat([x_data, y_data], \n",
    "                        axis=1,\n",
    "                        keys=[\"x_data\",\"y_data\"])\n",
    "    entropy_vec = []\n",
    "    for novel_value in value_vec:\n",
    "        p = 0\n",
    "        n = 0\n",
    "        t = 0\n",
    "        for index, row in temp_df.iterrows():\n",
    "            if row[\"x_data\"] == novel_value:\n",
    "                if row[\"y_data\"] == 1:\n",
    "                    p += 1\n",
    "                else:\n",
    "                    n += 1\n",
    "                t += 1\n",
    "        entropy_vec.append(\n",
    "            (t/total_samples) * ((-p/t)*np.log2(p/t) - (n/t)*np.log2(n/t))\n",
    "        )\n",
    "    \n",
    "    return sum(entropy_vec)\n",
    "\n",
    "p = y_training.value_counts()[1]\n",
    "n = y_training.value_counts()[0]\n",
    "t = len(y_training)\n",
    "baseline = (-p/t)*np.log2(p/t) - (n/t)*np.log2(n/t)\n",
    "info_gains = {}\n",
    "for attribute in INDEPENDENT_VARIABLES:\n",
    "    this_entropy = calc_entropy(x_training[attribute], y_training)\n",
    "    info_gains[attribute] = baseline - this_entropy\n",
    "\n",
    "print(info_gains)\n"
   ]
  },
  {
   "cell_type": "markdown",
   "metadata": {
    "pycharm": {
     "name": "#%% md\n"
    }
   },
   "source": [
    "So the first split should be \"sex\""
   ]
  },
  {
   "cell_type": "markdown",
   "metadata": {},
   "source": [
    "# Step 3"
   ]
  },
  {
   "cell_type": "code",
   "execution_count": 29,
   "metadata": {
    "pycharm": {
     "name": "#%%\n"
    }
   },
   "outputs": [
    {
     "data": {
      "text/plain": [
       "[Text(0.4816666666666667, 0.9285714285714286, 'x[0] <= 0.5\\ngini = 0.469\\nsamples = 1047\\nvalue = [653, 394]'),\n",
       " Text(0.19, 0.7857142857142857, 'x[1] <= 0.5\\ngini = 0.302\\nsamples = 675\\nvalue = [550, 125]'),\n",
       " Text(0.06333333333333334, 0.6428571428571429, 'x[3] <= 0.5\\ngini = 0.448\\nsamples = 142\\nvalue = [94, 48]'),\n",
       " Text(0.02666666666666667, 0.5, 'x[2] <= 0.5\\ngini = 0.278\\nsamples = 6\\nvalue = [1, 5]'),\n",
       " Text(0.013333333333333334, 0.35714285714285715, 'gini = 0.375\\nsamples = 4\\nvalue = [1, 3]'),\n",
       " Text(0.04, 0.35714285714285715, 'gini = 0.0\\nsamples = 2\\nvalue = [0, 2]'),\n",
       " Text(0.1, 0.5, 'x[3] <= 7.5\\ngini = 0.432\\nsamples = 136\\nvalue = [93, 43]'),\n",
       " Text(0.06666666666666667, 0.35714285714285715, 'x[2] <= 0.5\\ngini = 0.457\\nsamples = 102\\nvalue = [66, 36]'),\n",
       " Text(0.04, 0.21428571428571427, 'x[3] <= 6.5\\ngini = 0.432\\nsamples = 76\\nvalue = [52, 24]'),\n",
       " Text(0.02666666666666667, 0.07142857142857142, 'gini = 0.456\\nsamples = 57\\nvalue = [37, 20]'),\n",
       " Text(0.05333333333333334, 0.07142857142857142, 'gini = 0.332\\nsamples = 19\\nvalue = [15, 4]'),\n",
       " Text(0.09333333333333334, 0.21428571428571427, 'x[3] <= 2.5\\ngini = 0.497\\nsamples = 26\\nvalue = [14, 12]'),\n",
       " Text(0.08, 0.07142857142857142, 'gini = 0.0\\nsamples = 3\\nvalue = [3, 0]'),\n",
       " Text(0.10666666666666667, 0.07142857142857142, 'gini = 0.499\\nsamples = 23\\nvalue = [11, 12]'),\n",
       " Text(0.13333333333333333, 0.35714285714285715, 'x[2] <= 0.5\\ngini = 0.327\\nsamples = 34\\nvalue = [27, 7]'),\n",
       " Text(0.12, 0.21428571428571427, 'gini = 0.308\\nsamples = 21\\nvalue = [17, 4]'),\n",
       " Text(0.14666666666666667, 0.21428571428571427, 'gini = 0.355\\nsamples = 13\\nvalue = [10, 3]'),\n",
       " Text(0.31666666666666665, 0.6428571428571429, 'x[3] <= 0.5\\ngini = 0.247\\nsamples = 533\\nvalue = [456, 77]'),\n",
       " Text(0.22, 0.5, 'x[1] <= 1.5\\ngini = 0.44\\nsamples = 55\\nvalue = [37, 18]'),\n",
       " Text(0.18666666666666668, 0.35714285714285715, 'x[2] <= 0.5\\ngini = 0.426\\nsamples = 13\\nvalue = [4, 9]'),\n",
       " Text(0.17333333333333334, 0.21428571428571427, 'gini = 0.444\\nsamples = 6\\nvalue = [4, 2]'),\n",
       " Text(0.2, 0.21428571428571427, 'gini = 0.0\\nsamples = 7\\nvalue = [0, 7]'),\n",
       " Text(0.25333333333333335, 0.35714285714285715, 'x[2] <= 1.5\\ngini = 0.337\\nsamples = 42\\nvalue = [33, 9]'),\n",
       " Text(0.22666666666666666, 0.21428571428571427, 'x[2] <= 0.5\\ngini = 0.454\\nsamples = 23\\nvalue = [15, 8]'),\n",
       " Text(0.21333333333333335, 0.07142857142857142, 'gini = 0.408\\nsamples = 14\\nvalue = [10, 4]'),\n",
       " Text(0.24, 0.07142857142857142, 'gini = 0.494\\nsamples = 9\\nvalue = [5, 4]'),\n",
       " Text(0.28, 0.21428571428571427, 'x[2] <= 3.5\\ngini = 0.1\\nsamples = 19\\nvalue = [18, 1]'),\n",
       " Text(0.26666666666666666, 0.07142857142857142, 'gini = 0.0\\nsamples = 5\\nvalue = [5, 0]'),\n",
       " Text(0.29333333333333333, 0.07142857142857142, 'gini = 0.133\\nsamples = 14\\nvalue = [13, 1]'),\n",
       " Text(0.41333333333333333, 0.5, 'x[3] <= 5.5\\ngini = 0.216\\nsamples = 478\\nvalue = [419, 59]'),\n",
       " Text(0.36, 0.35714285714285715, 'x[3] <= 4.5\\ngini = 0.244\\nsamples = 359\\nvalue = [308, 51]'),\n",
       " Text(0.3333333333333333, 0.21428571428571427, 'x[2] <= 5.5\\ngini = 0.235\\nsamples = 323\\nvalue = [279, 44]'),\n",
       " Text(0.32, 0.07142857142857142, 'gini = 0.237\\nsamples = 320\\nvalue = [276, 44]'),\n",
       " Text(0.3466666666666667, 0.07142857142857142, 'gini = 0.0\\nsamples = 3\\nvalue = [3, 0]'),\n",
       " Text(0.38666666666666666, 0.21428571428571427, 'x[2] <= 0.5\\ngini = 0.313\\nsamples = 36\\nvalue = [29, 7]'),\n",
       " Text(0.37333333333333335, 0.07142857142857142, 'gini = 0.375\\nsamples = 28\\nvalue = [21, 7]'),\n",
       " Text(0.4, 0.07142857142857142, 'gini = 0.0\\nsamples = 8\\nvalue = [8, 0]'),\n",
       " Text(0.4666666666666667, 0.35714285714285715, 'x[3] <= 7.5\\ngini = 0.125\\nsamples = 119\\nvalue = [111, 8]'),\n",
       " Text(0.44, 0.21428571428571427, 'x[2] <= 0.5\\ngini = 0.143\\nsamples = 90\\nvalue = [83, 7]'),\n",
       " Text(0.4266666666666667, 0.07142857142857142, 'gini = 0.161\\nsamples = 68\\nvalue = [62, 6]'),\n",
       " Text(0.4533333333333333, 0.07142857142857142, 'gini = 0.087\\nsamples = 22\\nvalue = [21, 1]'),\n",
       " Text(0.49333333333333335, 0.21428571428571427, 'x[1] <= 1.5\\ngini = 0.067\\nsamples = 29\\nvalue = [28, 1]'),\n",
       " Text(0.48, 0.07142857142857142, 'gini = 0.105\\nsamples = 18\\nvalue = [17, 1]'),\n",
       " Text(0.5066666666666667, 0.07142857142857142, 'gini = 0.0\\nsamples = 11\\nvalue = [11, 0]'),\n",
       " Text(0.7733333333333333, 0.7857142857142857, 'x[1] <= 1.5\\ngini = 0.4\\nsamples = 372\\nvalue = [103, 269]'),\n",
       " Text(0.63, 0.6428571428571429, 'x[1] <= 0.5\\ngini = 0.143\\nsamples = 193\\nvalue = [15, 178]'),\n",
       " Text(0.5666666666666667, 0.5, 'x[3] <= 0.5\\ngini = 0.084\\nsamples = 114\\nvalue = [5, 109]'),\n",
       " Text(0.5333333333333333, 0.35714285714285715, 'x[2] <= 0.5\\ngini = 0.245\\nsamples = 7\\nvalue = [1, 6]'),\n",
       " Text(0.52, 0.21428571428571427, 'gini = 0.0\\nsamples = 3\\nvalue = [0, 3]'),\n",
       " Text(0.5466666666666666, 0.21428571428571427, 'gini = 0.375\\nsamples = 4\\nvalue = [1, 3]'),\n",
       " Text(0.6, 0.35714285714285715, 'x[3] <= 7.5\\ngini = 0.072\\nsamples = 107\\nvalue = [4, 103]'),\n",
       " Text(0.5733333333333334, 0.21428571428571427, 'x[3] <= 2.5\\ngini = 0.049\\nsamples = 80\\nvalue = [2, 78]'),\n",
       " Text(0.56, 0.07142857142857142, 'gini = 0.0\\nsamples = 18\\nvalue = [0, 18]'),\n",
       " Text(0.5866666666666667, 0.07142857142857142, 'gini = 0.062\\nsamples = 62\\nvalue = [2, 60]'),\n",
       " Text(0.6266666666666667, 0.21428571428571427, 'x[2] <= 1.5\\ngini = 0.137\\nsamples = 27\\nvalue = [2, 25]'),\n",
       " Text(0.6133333333333333, 0.07142857142857142, 'gini = 0.147\\nsamples = 25\\nvalue = [2, 23]'),\n",
       " Text(0.64, 0.07142857142857142, 'gini = 0.0\\nsamples = 2\\nvalue = [0, 2]'),\n",
       " Text(0.6933333333333334, 0.5, 'x[3] <= 1.5\\ngini = 0.221\\nsamples = 79\\nvalue = [10, 69]'),\n",
       " Text(0.68, 0.35714285714285715, 'gini = 0.0\\nsamples = 22\\nvalue = [0, 22]'),\n",
       " Text(0.7066666666666667, 0.35714285714285715, 'x[3] <= 7.5\\ngini = 0.289\\nsamples = 57\\nvalue = [10, 47]'),\n",
       " Text(0.68, 0.21428571428571427, 'x[3] <= 4.5\\ngini = 0.26\\nsamples = 52\\nvalue = [8, 44]'),\n",
       " Text(0.6666666666666666, 0.07142857142857142, 'gini = 0.355\\nsamples = 26\\nvalue = [6, 20]'),\n",
       " Text(0.6933333333333334, 0.07142857142857142, 'gini = 0.142\\nsamples = 26\\nvalue = [2, 24]'),\n",
       " Text(0.7333333333333333, 0.21428571428571427, 'x[2] <= 0.5\\ngini = 0.48\\nsamples = 5\\nvalue = [2, 3]'),\n",
       " Text(0.72, 0.07142857142857142, 'gini = 0.444\\nsamples = 3\\nvalue = [1, 2]'),\n",
       " Text(0.7466666666666667, 0.07142857142857142, 'gini = 0.5\\nsamples = 2\\nvalue = [1, 1]'),\n",
       " Text(0.9166666666666666, 0.6428571428571429, 'x[2] <= 2.5\\ngini = 0.5\\nsamples = 179\\nvalue = [88, 91]'),\n",
       " Text(0.86, 0.5, 'x[3] <= 4.5\\ngini = 0.497\\nsamples = 165\\nvalue = [76, 89]'),\n",
       " Text(0.8133333333333334, 0.35714285714285715, 'x[3] <= 0.5\\ngini = 0.483\\nsamples = 132\\nvalue = [54, 78]'),\n",
       " Text(0.7866666666666666, 0.21428571428571427, 'x[2] <= 0.5\\ngini = 0.42\\nsamples = 30\\nvalue = [9, 21]'),\n",
       " Text(0.7733333333333333, 0.07142857142857142, 'gini = 0.375\\nsamples = 16\\nvalue = [4, 12]'),\n",
       " Text(0.8, 0.07142857142857142, 'gini = 0.459\\nsamples = 14\\nvalue = [5, 9]'),\n",
       " Text(0.84, 0.21428571428571427, 'x[3] <= 1.5\\ngini = 0.493\\nsamples = 102\\nvalue = [45, 57]'),\n",
       " Text(0.8266666666666667, 0.07142857142857142, 'gini = 0.488\\nsamples = 19\\nvalue = [11, 8]'),\n",
       " Text(0.8533333333333334, 0.07142857142857142, 'gini = 0.484\\nsamples = 83\\nvalue = [34, 49]'),\n",
       " Text(0.9066666666666666, 0.35714285714285715, 'x[3] <= 7.5\\ngini = 0.444\\nsamples = 33\\nvalue = [22, 11]'),\n",
       " Text(0.8933333333333333, 0.21428571428571427, 'x[3] <= 6.5\\ngini = 0.43\\nsamples = 32\\nvalue = [22, 10]'),\n",
       " Text(0.88, 0.07142857142857142, 'gini = 0.472\\nsamples = 21\\nvalue = [13, 8]'),\n",
       " Text(0.9066666666666666, 0.07142857142857142, 'gini = 0.298\\nsamples = 11\\nvalue = [9, 2]'),\n",
       " Text(0.92, 0.21428571428571427, 'gini = 0.0\\nsamples = 1\\nvalue = [0, 1]'),\n",
       " Text(0.9733333333333334, 0.5, 'x[3] <= 2.0\\ngini = 0.245\\nsamples = 14\\nvalue = [12, 2]'),\n",
       " Text(0.96, 0.35714285714285715, 'x[2] <= 3.5\\ngini = 0.346\\nsamples = 9\\nvalue = [7, 2]'),\n",
       " Text(0.9466666666666667, 0.21428571428571427, 'gini = 0.0\\nsamples = 3\\nvalue = [3, 0]'),\n",
       " Text(0.9733333333333334, 0.21428571428571427, 'gini = 0.444\\nsamples = 6\\nvalue = [4, 2]'),\n",
       " Text(0.9866666666666667, 0.35714285714285715, 'gini = 0.0\\nsamples = 5\\nvalue = [5, 0]')]"
      ]
     },
     "execution_count": 29,
     "metadata": {},
     "output_type": "execute_result"
    },
    {
     "data": {
      "image/png": "[encoded data removed]",
      "text/plain": [
       "<Figure size 640x480 with 1 Axes>"
      ]
     },
     "metadata": {},
     "output_type": "display_data"
    }
   ],
   "source": [
    "from sklearn.tree import DecisionTreeClassifier, plot_tree #sklearn.metrics is not imported !!!\n",
    "\n",
    "# Instantiate the DecisionTreeClassifier\n",
    "tree_classifier = DecisionTreeClassifier(max_depth=6)\n",
    "\n",
    "# Prepare the features and target variables for training\n",
    "# Values in \"sex\" and \"pclass\" need to be replaced w floats\n",
    "                   \n",
    "feature_list = pd.concat([x_training[\"sex\"].replace({\"male\": 0,\n",
    "                                                    \"female\": 1}),\n",
    "                          x_training[\"pclass\"].replace({\"1st\":0,\n",
    "                          \"2nd\":1,\n",
    "                          \"3rd\":2}),\n",
    "                          x_training[\"sibsp\"],\n",
    "                          x_training[\"age\"]],\n",
    "                          axis=1\n",
    ")\n",
    "\n",
    "# Fit the decision tree model\n",
    "tree_classifier.fit(feature_list.values,\n",
    "                    y_training)\n",
    "\n",
    "# Plot the full decision tree\n",
    "plot_tree(tree_classifier)\n"
   ]
  },
  {
   "cell_type": "code",
   "execution_count": 30,
   "metadata": {
    "pycharm": {
     "name": "#%%\n"
    }
   },
   "outputs": [
    {
     "name": "stdout",
     "output_type": "stream",
     "text": [
      "(0.7906976744186046, 0.6415094339622641, 0.7083333333333334)\n"
     ]
    }
   ],
   "source": [
    "# Define your performance metrics including accuracy, precision, recall and F1-score\n",
    "\n",
    "def test_tree(x_testing, y_testing, model):\n",
    "    # Pass in test datasets for x and y as well as the trained model\n",
    "    # Return precision, recall, F1 score\n",
    "    # Some definitions upfront\n",
    "    positive = 1    # Value of a Positive\n",
    "    negative = 0    # Value of a Negative\n",
    "    TP = 0          # Num. of true positives\n",
    "    TN = 0          # Num. of true negatives\n",
    "    FP = 0          # Num. of false positives\n",
    "    FN = 0          # Num. of false negatives\n",
    "\n",
    "    for index, row in x_testing.iterrows():\n",
    "        prediction = model.predict([row.values])\n",
    "        if prediction == y_testing[index] == positive:\n",
    "            TP += 1\n",
    "        elif prediction == y_testing[index] == negative:\n",
    "            TN += 1\n",
    "        else:\n",
    "            if y_testing[index] == positive:\n",
    "                FN += 1\n",
    "            elif y_testing[index] == negative:\n",
    "                FP += 1\n",
    "\n",
    "    precision = TP/(TP+FP)\n",
    "    recall = TP/(TP+FN)\n",
    "    F1 = 2*(precision * recall)/(precision + recall)\n",
    "    return precision, recall, F1\n",
    "\n",
    "feature_list_testing = pd.concat([x_testing[\"sex\"].replace({\"male\": 0,\n",
    "                                                    \"female\": 1}),\n",
    "                          x_testing[\"pclass\"].replace({\"1st\":0,\n",
    "                          \"2nd\":1,\n",
    "                          \"3rd\":2}),\n",
    "                          x_testing[\"sibsp\"],\n",
    "                          x_testing[\"age\"]],\n",
    "                          axis=1\n",
    "                        )\n",
    "\n",
    "print(test_tree(feature_list_testing, y_testing, tree_classifier))\n"
   ]
  },
  {
   "cell_type": "markdown",
   "metadata": {},
   "source": [
    "# Step 4"
   ]
  },
  {
   "cell_type": "code",
   "execution_count": 43,
   "metadata": {
    "pycharm": {
     "name": "#%%\n"
    }
   },
   "outputs": [
    {
     "name": "stdout",
     "output_type": "stream",
     "text": [
      "(0.8, 0.6415094339622641, 0.7120418848167539)\n"
     ]
    },
    {
     "data": {
      "image/png": "[encoded data removed]",
      "text/plain": [
       "<Figure size 640x480 with 1 Axes>"
      ]
     },
     "metadata": {},
     "output_type": "display_data"
    }
   ],
   "source": [
    "from sklearn.model_selection import GridSearchCV\n",
    "\n",
    "# Define a range of max_leaf_nodes values to search\n",
    "param_grid = {'max_leaf_nodes': list(range(5, 20))}\n",
    "\n",
    "# Run grid search with cross-validation\n",
    "def train_model(x_training, y_training, param_grid):\n",
    "    grid_search = GridSearchCV(DecisionTreeClassifier(random_state=42), param_grid, cv=5)\n",
    "    grid_search.fit(x_training.values, y_training) # Note testing set cannot be used\n",
    "    return grid_search.best_estimator_\n",
    "\n",
    "# Get the best estimator with the optimal max_leaf_nodes parameter\n",
    "best_tree = train_model(feature_list, y_training, param_grid)\n",
    "\n",
    "# Plot the pruned decision tree\n",
    "plot_tree(best_tree)\n",
    "print(test_tree(feature_list_testing, y_testing, best_tree))"
   ]
  },
  {
   "cell_type": "markdown",
   "metadata": {
    "pycharm": {
     "name": "#%% md\n"
    }
   },
   "source": [
    "# Step 5\n"
   ]
  },
  {
   "cell_type": "code",
   "execution_count": 45,
   "metadata": {
    "pycharm": {
     "name": "#%%\n"
    }
   },
   "outputs": [],
   "source": [
    "def ensemble_vote(models, X):\n",
    "\n",
    "    \n",
    "\n",
    "\n",
    "    return ensemble_predictions\n",
    "\n",
    "# Use the defined function to get predictions from the ensemble of the three trees\n",
    "\n",
    "\n",
    "\n",
    "param_grid = {'max_leaf_nodes': list(range(5, 20)),\n",
    "                \"max_depth\": list(range(1,10))}\n",
    "\n",
    "dt_max_depth = train_model(feature_list, y_training, param_grid)\n",
    "\n",
    "param_grid = {'max_leaf_nodes': list(range(5, 20)),\n",
    "                \"min_samples_split\": [2,3,4]}\n",
    "\n",
    "dt_opt_critia = train_model(feature_list, y_training, param_grid)\n",
    "\n",
    "models = [best_tree, dt_max_depth, dt_opt_critia]\n",
    "#ensemble_predictions = ensemble_vote(models, X_test)\n",
    "\n",
    "# Calculate performance metrics for the ensemble using the previously defined function\n"
   ]
  },
  {
   "cell_type": "code",
   "execution_count": null,
   "metadata": {
    "pycharm": {
     "name": "#%%\n"
    }
   },
   "outputs": [],
   "source": [
    "# Train a random forest model using the optimal tree you found in step 4 and compare the ensembled model with the random forest "
   ]
  }
 ],
 "metadata": {
  "kernelspec": {
   "display_name": "Python 3",
   "language": "python",
   "name": "python3"
  },
  "language_info": {
   "codemirror_mode": {
    "name": "ipython",
    "version": 3
   },
   "file_extension": ".py",
   "mimetype": "text/x-python",
   "name": "python",
   "nbconvert_exporter": "python",
   "pygments_lexer": "ipython3",
   "version": "3.8.0"
  }
 },
 "nbformat": 4,
 "nbformat_minor": 1
}

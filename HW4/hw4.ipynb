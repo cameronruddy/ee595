{
 "cells": [
  {
   "cell_type": "code",
   "execution_count": 1,
   "metadata": {},
   "outputs": [],
   "source": [
    "import numpy as np\n",
    "import gzip\n",
    "import struct\n",
    "\n",
    "def read_idx(filename):\n",
    "    with gzip.open(filename, 'rb') as f:\n",
    "        zero, data_type, dims = struct.unpack(\">HBB\", f.read(4))\n",
    "        shape = tuple(struct.unpack(\">I\", f.read(4))[0] for d in range(dims))\n",
    "        return np.frombuffer(f.read(), dtype=np.uint8).reshape(shape)\n"
   ]
  },
  {
   "cell_type": "code",
   "execution_count": 2,
   "metadata": {},
   "outputs": [
    {
     "data": {
      "image/png": "[encoded data removed]",
      "text/plain": [
       "<Figure size 432x288 with 1 Axes>"
      ]
     },
     "metadata": {
      "needs_background": "light"
     },
     "output_type": "display_data"
    },
    {
     "data": {
      "image/png": "[encoded data removed]",
      "text/plain": [
       "<Figure size 432x288 with 1 Axes>"
      ]
     },
     "metadata": {
      "needs_background": "light"
     },
     "output_type": "display_data"
    }
   ],
   "source": [
    "### Data Import ###\n",
    "\n",
    "import matplotlib.pyplot as plt\n",
    "import os\n",
    "\n",
    "NUM_TRAIN_SAMPLES = 60000\n",
    "NUM_TEST_SAMPLES = 10000\n",
    "\n",
    "# Assume that files are in current directory\n",
    "TRAIN_IMAGE_PATH = \"train-images-idx3-ubyte.gz\"\n",
    "TRAIN_LABEL_PATH = \"train-labels-idx1-ubyte.gz\"\n",
    "TEST_IMAGE_PATH = \"t10k-images-idx3-ubyte.gz\"\n",
    "TEST_LABEL_PATH = \"t10k-labels-idx1-ubyte.gz\"\n",
    "\n",
    "training_images = read_idx(TRAIN_IMAGE_PATH)\n",
    "training_labels = read_idx(TRAIN_LABEL_PATH)\n",
    "testing_images = read_idx(TEST_IMAGE_PATH)\n",
    "testing_labels = read_idx(TEST_LABEL_PATH)\n",
    "\n",
    "def print_image_label_pairs(image_dataset, label_dataset, title):\n",
    "    # Vector to pick random image/label pairs\n",
    "    random_samples = np.random.randint(0, len(image_dataset), size=2)\n",
    "    handle = 0  # Generic handle so multiple figs can be created\n",
    "    \n",
    "    for idx in random_samples:\n",
    "        plt.figure(handle)\n",
    "        handle += 1\n",
    "        plt.imshow(image_dataset[idx,:,:])\n",
    "        plt.title(\"{}, Label: {}\".format(title, label_dataset[idx]))\n",
    "\n",
    "print_image_label_pairs(training_images, training_labels, \"Training\")\n",
    "print_image_label_pairs(testing_images, testing_labels, \"Testing\")\n"
   ]
  },
  {
   "cell_type": "markdown",
   "metadata": {},
   "source": [
    "Using the `read_idx()` method to read in raw gzip files. Multiple images are plotted to show image corresponds to proper label."
   ]
  },
  {
   "cell_type": "code",
   "execution_count": 13,
   "metadata": {},
   "outputs": [
    {
     "name": "stdout",
     "output_type": "stream",
     "text": [
      "1.0 0.0\n",
      "[0.         0.         0.         0.         0.         0.\n",
      " 0.         0.         0.         0.         0.         0.\n",
      " 0.         0.         0.         0.         0.         0.\n",
      " 0.         0.         0.         0.         0.         0.\n",
      " 0.         0.         0.         0.         0.         0.\n",
      " 0.         0.         0.         0.         0.         0.\n",
      " 0.         0.         0.         0.         0.         0.\n",
      " 0.         0.         0.         0.         0.         0.\n",
      " 0.         0.         0.         0.         0.         0.\n",
      " 0.         0.         0.         0.         0.         0.\n",
      " 0.         0.         0.         0.         0.         0.\n",
      " 0.         0.         0.         0.         0.         0.\n",
      " 0.         0.         0.         0.         0.         0.\n",
      " 0.         0.         0.         0.         0.         0.\n",
      " 0.         0.         0.         0.         0.         0.\n",
      " 0.         0.         0.         0.         0.         0.\n",
      " 0.         0.         0.         0.         0.         0.\n",
      " 0.         0.         0.         0.         0.         0.\n",
      " 0.         0.         0.         0.         0.         0.\n",
      " 0.         0.         0.         0.         0.         0.\n",
      " 0.         0.         0.         0.         0.56862745 1.\n",
      " 0.82745098 0.12156863 0.         0.         0.         0.\n",
      " 0.         0.         0.         0.         0.         0.\n",
      " 0.         0.         0.         0.         0.         0.\n",
      " 0.         0.         0.         0.         0.         0.\n",
      " 0.         0.1254902  0.92941176 0.99215686 0.98823529 0.27843137\n",
      " 0.         0.         0.         0.         0.         0.\n",
      " 0.         0.         0.         0.         0.         0.\n",
      " 0.         0.         0.         0.         0.         0.\n",
      " 0.         0.         0.         0.         0.         0.04313725\n",
      " 0.68627451 0.99215686 0.98823529 0.27843137 0.         0.\n",
      " 0.         0.         0.         0.         0.         0.\n",
      " 0.         0.         0.         0.         0.         0.\n",
      " 0.         0.         0.         0.         0.         0.\n",
      " 0.         0.         0.         0.         0.56470588 0.99215686\n",
      " 0.98823529 0.27843137 0.         0.         0.         0.\n",
      " 0.         0.         0.         0.         0.         0.\n",
      " 0.         0.         0.         0.         0.         0.\n",
      " 0.         0.         0.         0.         0.         0.\n",
      " 0.         0.0627451  0.74901961 0.99215686 0.98823529 0.27843137\n",
      " 0.         0.         0.         0.         0.         0.\n",
      " 0.         0.         0.         0.         0.         0.\n",
      " 0.         0.         0.         0.         0.         0.\n",
      " 0.         0.         0.         0.         0.         0.10196078\n",
      " 0.86666667 0.99215686 0.98823529 0.48627451 0.12156863 0.\n",
      " 0.         0.         0.         0.         0.         0.\n",
      " 0.         0.         0.         0.         0.         0.\n",
      " 0.         0.         0.         0.         0.         0.\n",
      " 0.         0.         0.         0.         0.49019608 0.99215686\n",
      " 0.98823529 0.98823529 0.42352941 0.         0.         0.\n",
      " 0.         0.         0.         0.         0.         0.\n",
      " 0.         0.         0.         0.         0.         0.\n",
      " 0.         0.         0.         0.         0.         0.\n",
      " 0.         0.         0.         0.99215686 0.98823529 0.98823529\n",
      " 0.42352941 0.         0.         0.         0.         0.\n",
      " 0.         0.         0.         0.         0.         0.\n",
      " 0.         0.         0.         0.         0.         0.\n",
      " 0.         0.         0.         0.         0.         0.\n",
      " 0.         1.         0.99215686 0.99215686 0.42352941 0.\n",
      " 0.         0.         0.         0.         0.         0.\n",
      " 0.         0.         0.         0.         0.         0.\n",
      " 0.         0.         0.         0.         0.         0.\n",
      " 0.         0.         0.         0.         0.         0.99215686\n",
      " 0.98823529 0.98823529 0.42352941 0.         0.         0.\n",
      " 0.         0.         0.         0.         0.         0.\n",
      " 0.         0.         0.         0.         0.         0.\n",
      " 0.         0.         0.         0.         0.         0.\n",
      " 0.         0.         0.         0.99215686 0.98823529 0.98823529\n",
      " 0.42352941 0.         0.         0.         0.         0.\n",
      " 0.         0.         0.         0.         0.         0.\n",
      " 0.         0.         0.         0.         0.         0.\n",
      " 0.         0.         0.         0.         0.         0.\n",
      " 0.         0.99215686 0.98823529 0.98823529 0.42352941 0.\n",
      " 0.         0.         0.         0.         0.         0.\n",
      " 0.         0.         0.         0.         0.         0.\n",
      " 0.         0.         0.         0.         0.         0.\n",
      " 0.         0.         0.         0.         0.         1.\n",
      " 0.99215686 0.99215686 0.66666667 0.         0.         0.\n",
      " 0.         0.         0.         0.         0.         0.\n",
      " 0.         0.         0.         0.         0.         0.\n",
      " 0.         0.         0.         0.         0.         0.\n",
      " 0.         0.         0.         0.99215686 0.98823529 0.98823529\n",
      " 0.98823529 0.16470588 0.         0.         0.         0.\n",
      " 0.         0.         0.         0.         0.         0.\n",
      " 0.         0.         0.         0.         0.         0.\n",
      " 0.         0.         0.         0.         0.         0.\n",
      " 0.         0.58431373 0.98823529 0.98823529 0.98823529 0.56470588\n",
      " 0.         0.         0.         0.         0.         0.\n",
      " 0.         0.         0.         0.         0.         0.\n",
      " 0.         0.         0.         0.         0.         0.\n",
      " 0.         0.         0.         0.         0.         0.42745098\n",
      " 0.98823529 0.98823529 0.98823529 0.56470588 0.         0.\n",
      " 0.         0.         0.         0.         0.         0.\n",
      " 0.         0.         0.         0.         0.         0.\n",
      " 0.         0.         0.         0.         0.         0.\n",
      " 0.         0.         0.         0.         0.85490196 0.99215686\n",
      " 0.99215686 1.         0.1372549  0.         0.         0.\n",
      " 0.         0.         0.         0.         0.         0.\n",
      " 0.         0.         0.         0.         0.         0.\n",
      " 0.         0.         0.         0.         0.         0.\n",
      " 0.         0.         0.68627451 0.98823529 0.98823529 0.99215686\n",
      " 0.1372549  0.         0.         0.         0.         0.\n",
      " 0.         0.         0.         0.         0.         0.\n",
      " 0.         0.         0.         0.         0.         0.\n",
      " 0.         0.         0.         0.         0.         0.\n",
      " 0.28627451 0.98823529 0.98823529 0.99215686 0.1372549  0.\n",
      " 0.         0.         0.         0.         0.         0.\n",
      " 0.         0.         0.         0.         0.         0.\n",
      " 0.         0.         0.         0.         0.         0.\n",
      " 0.         0.         0.         0.         0.12156863 0.82745098\n",
      " 0.98823529 0.99215686 0.1372549  0.         0.         0.\n",
      " 0.         0.         0.         0.         0.         0.\n",
      " 0.         0.         0.         0.         0.         0.\n",
      " 0.         0.         0.         0.         0.         0.\n",
      " 0.         0.         0.         0.         0.         0.\n",
      " 0.         0.         0.         0.         0.         0.\n",
      " 0.         0.         0.         0.         0.         0.\n",
      " 0.         0.         0.         0.         0.         0.\n",
      " 0.         0.         0.         0.         0.         0.\n",
      " 0.         0.         0.         0.         0.         0.\n",
      " 0.         0.         0.         0.         0.         0.\n",
      " 0.         0.         0.         0.         0.         0.\n",
      " 0.         0.         0.         0.         0.         0.\n",
      " 0.         0.         0.         0.         0.         0.\n",
      " 0.         0.         0.         0.         0.         0.\n",
      " 0.         0.         0.         0.         0.         0.\n",
      " 0.         0.         0.         0.         0.         0.\n",
      " 0.         0.         0.         0.         0.         0.\n",
      " 0.         0.         0.         0.         0.         0.\n",
      " 0.         0.         0.         0.         0.         0.\n",
      " 0.         0.         0.         0.        ]\n"
     ]
    },
    {
     "data": {
      "image/png": "[encoded data removed]",
      "text/plain": [
       "<Figure size 432x288 with 1 Axes>"
      ]
     },
     "metadata": {
      "needs_background": "light"
     },
     "output_type": "display_data"
    },
    {
     "data": {
      "image/png": "[encoded data removed]",
      "text/plain": [
       "<Figure size 432x288 with 1 Axes>"
      ]
     },
     "metadata": {
      "needs_background": "light"
     },
     "output_type": "display_data"
    }
   ],
   "source": [
    "### Normalize Pixels, Categorize Labels ###\n",
    "\n",
    "def normalize_dataset(data_array):\n",
    "    a = data_array.min()\n",
    "    b = data_array.max()\n",
    "    return (data_array - a)/(b - a)\n",
    "\n",
    "train_img_norm = normalize_dataset(training_images)\n",
    "train_label_cat = [int(string_num) for string_num in training_labels]\n",
    "test_img_norm = normalize_dataset(testing_images)\n",
    "test_label_cat = [int(string_num) for string_num in testing_labels]\n",
    "\n",
    "# Make sure data still looks good\n",
    "print_image_label_pairs(train_img_norm, training_labels, \"Training\")\n",
    "# Make sure min and max are within bounds\n",
    "print(train_img_norm.max(), train_img_norm.min())\n",
    "\n",
    "### Flatten Data ###\n",
    "#print(train_img_norm[6,:,:])\n",
    "print(train_img_norm[6,:,:].reshape(-1))\n",
    "train_img_norm_flat = np.array([train_img_norm[idx,:,:].reshape(-1) for idx in range(len(train_img_norm))])\n",
    "\n",
    "\n",
    "\n",
    "#train_img_norm_flat = train_img_norm.reshape((NUM_TRAIN_SAMPLES, 28*28))\n",
    "#test_img_norm_flat = test_img_norm.reshape(NUM_TEST_SAMPLES, 28*28)"
   ]
  },
  {
   "cell_type": "markdown",
   "metadata": {},
   "source": [
    "Data was normalized using [this function](https://stackoverflow.com/questions/65029540/normalize-dataset-in-python). To confirm that data is properly normalized, the min an max values are inspected (to make sure they're between 1.0 and 0) and the data is plotted for visual confirmation. \n",
    "Label data is categorized by converting the sting value for each number into an int value."
   ]
  },
  {
   "cell_type": "code",
   "execution_count": 4,
   "metadata": {},
   "outputs": [
    {
     "data": {
      "image/png": "[encoded data removed]",
      "text/plain": [
       "<Figure size 432x288 with 1 Axes>"
      ]
     },
     "metadata": {
      "needs_background": "light"
     },
     "output_type": "display_data"
    }
   ],
   "source": [
    "### Feed Forward, Inits ###\n",
    "\n",
    "# Inits\n",
    "TEST_SIGMOID = True\n",
    "np.random.seed(695)\n",
    "NUM_LAYER_0_NODES = 784\n",
    "NUM_LAYER_1_NODES = 127\n",
    "NUM_LAYER_2_NODES = 63\n",
    "NUM_OUTLAYER_NODES = 10\n",
    "\n",
    "# Init weight vectors randomly\n",
    "layer_0_weights = np.random.rand(NUM_LAYER_0_NODES, NUM_LAYER_1_NODES)\n",
    "layer_0_bias = np.random.rand(NUM_LAYER_0_NODES, NUM_LAYER_1_NODES)\n",
    "layer_1_weights = np.random.rand(NUM_LAYER_1_NODES, NUM_LAYER_2_NODES)\n",
    "layer_1_bias = np.random.rand(NUM_LAYER_1_NODES, NUM_LAYER_2_NODES)\n",
    "layer_2_weights = np.random.rand(NUM_LAYER_2_NODES, NUM_OUTLAYER_NODES)\n",
    "layer_2_bias = np.random.rand(NUM_LAYER_2_NODES, NUM_OUTLAYER_NODES)\n",
    "\n",
    "# Sigmoid Function def\n",
    "def sigmoid(x):\n",
    "    return 1/(1+np.exp(-x))\n",
    "\n",
    "# Test Sigmoid Function\n",
    "if TEST_SIGMOID:\n",
    "    test_vec = np.linspace(-10,10)\n",
    "    plt.plot(test_vec, sigmoid(test_vec))\n",
    "    plt.title(\"Sigmoid Test\")\n"
   ]
  },
  {
   "cell_type": "code",
   "execution_count": 5,
   "metadata": {},
   "outputs": [
    {
     "ename": "IndexError",
     "evalue": "too many indices for array: array is 1-dimensional, but 2 were indexed",
     "output_type": "error",
     "traceback": [
      "\u001b[1;31m---------------------------------------------------------------------------\u001b[0m",
      "\u001b[1;31mIndexError\u001b[0m                                Traceback (most recent call last)",
      "\u001b[1;32m~\\AppData\\Local\\Temp\\ipykernel_20468\\103878586.py\u001b[0m in \u001b[0;36m<module>\u001b[1;34m\u001b[0m\n\u001b[0;32m     11\u001b[0m \u001b[0mout_values\u001b[0m \u001b[1;33m=\u001b[0m \u001b[1;33m[\u001b[0m\u001b[1;33m]\u001b[0m\u001b[1;33m\u001b[0m\u001b[1;33m\u001b[0m\u001b[0m\n\u001b[0;32m     12\u001b[0m \u001b[1;32mfor\u001b[0m \u001b[0midx\u001b[0m \u001b[1;32min\u001b[0m \u001b[0mrange\u001b[0m\u001b[1;33m(\u001b[0m\u001b[1;36m25\u001b[0m\u001b[1;33m)\u001b[0m\u001b[1;33m:\u001b[0m\u001b[1;33m\u001b[0m\u001b[1;33m\u001b[0m\u001b[0m\n\u001b[1;32m---> 13\u001b[1;33m     \u001b[0mH1_values\u001b[0m \u001b[1;33m=\u001b[0m \u001b[0mrun_feed_forward\u001b[0m\u001b[1;33m(\u001b[0m\u001b[0mtrain_img_norm_flat\u001b[0m\u001b[1;33m[\u001b[0m\u001b[0midx\u001b[0m\u001b[1;33m,\u001b[0m\u001b[1;33m:\u001b[0m\u001b[1;33m]\u001b[0m\u001b[1;33m,\u001b[0m \u001b[0mlayer_0_weights\u001b[0m\u001b[1;33m,\u001b[0m \u001b[0mlayer_0_bias\u001b[0m\u001b[1;33m)\u001b[0m\u001b[1;33m\u001b[0m\u001b[1;33m\u001b[0m\u001b[0m\n\u001b[0m\u001b[0;32m     14\u001b[0m     \u001b[0mH2_values\u001b[0m \u001b[1;33m=\u001b[0m \u001b[0mrun_feed_forward\u001b[0m\u001b[1;33m(\u001b[0m\u001b[0mH1_values\u001b[0m\u001b[1;33m,\u001b[0m \u001b[0mlayer_1_weights\u001b[0m\u001b[1;33m,\u001b[0m \u001b[0mlayer_1_bias\u001b[0m\u001b[1;33m)\u001b[0m\u001b[1;33m\u001b[0m\u001b[1;33m\u001b[0m\u001b[0m\n\u001b[0;32m     15\u001b[0m     \u001b[0mout_values\u001b[0m\u001b[1;33m.\u001b[0m\u001b[0mappend\u001b[0m\u001b[1;33m(\u001b[0m\u001b[0mrun_feed_forward\u001b[0m\u001b[1;33m(\u001b[0m\u001b[0mH2_values\u001b[0m\u001b[1;33m,\u001b[0m \u001b[0mlayer_2_weights\u001b[0m\u001b[1;33m,\u001b[0m \u001b[0mlayer_2_bias\u001b[0m\u001b[1;33m)\u001b[0m\u001b[1;33m)\u001b[0m\u001b[1;33m\u001b[0m\u001b[1;33m\u001b[0m\u001b[0m\n",
      "\u001b[1;31mIndexError\u001b[0m: too many indices for array: array is 1-dimensional, but 2 were indexed"
     ]
    }
   ],
   "source": [
    "def feed_forward_step(input_vec, weight_vec, bias):\n",
    "    return sigmoid(np.sum((input_vec * weight_vec) + bias))\n",
    "\n",
    "def run_feed_forward(training_vec, weight_vec, bias_vec):\n",
    "    next_layer = []\n",
    "    num_rows, num_cols = weight_vec.shape\n",
    "    for idx in range(num_cols):\n",
    "        next_layer.append(feed_forward_step(training_vec, weight_vec[:,idx], bias_vec[:,idx]))\n",
    "    return np.array(next_layer)\n",
    "\n",
    "out_values = []\n",
    "for idx in range(25):\n",
    "    H1_values = run_feed_forward(train_img_norm_flat[idx,:], layer_0_weights, layer_0_bias)\n",
    "    H2_values = run_feed_forward(H1_values, layer_1_weights, layer_1_bias)\n",
    "    out_values.append(run_feed_forward(H2_values, layer_2_weights, layer_2_bias))"
   ]
  },
  {
   "cell_type": "code",
   "execution_count": null,
   "metadata": {},
   "outputs": [],
   "source": [
    "def catergorical_crossentropy(y_true, y_pred):\n",
    "    n_samples = y_true.shape[0]\n",
    "    y_pred_clipped = np.clip(y_pred, 1e-12, 1-1e-12)\n",
    "    return -np.sum(y_true * np.log(y_pred_clipped))/n_samples\n",
    "    "
   ]
  }
 ],
 "metadata": {
  "kernelspec": {
   "display_name": "Python 3",
   "language": "python",
   "name": "python3"
  },
  "language_info": {
   "codemirror_mode": {
    "name": "ipython",
    "version": 3
   },
   "file_extension": ".py",
   "mimetype": "text/x-python",
   "name": "python",
   "nbconvert_exporter": "python",
   "pygments_lexer": "ipython3",
   "version": "3.9.5"
  }
 },
 "nbformat": 4,
 "nbformat_minor": 2
}
